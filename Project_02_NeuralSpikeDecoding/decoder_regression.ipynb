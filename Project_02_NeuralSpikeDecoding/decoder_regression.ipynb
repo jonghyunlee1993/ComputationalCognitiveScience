{
 "cells": [
  {
   "cell_type": "code",
   "execution_count": 1,
   "id": "efbf8711",
   "metadata": {},
   "outputs": [],
   "source": [
    "import numpy as np\n",
    "from scipy.io import loadmat\n",
    "\n",
    "import tensorflow as tf\n",
    "\n",
    "from sklearn.svm import SVR\n",
    "from sklearn.tree import DecisionTreeRegressor\n",
    "from sklearn.linear_model import LinearRegression\n",
    "from sklearn.multioutput import MultiOutputRegressor\n",
    "from sklearn.model_selection import train_test_split\n",
    "from sklearn.metrics import mean_squared_error, mean_absolute_error, r2_score\n",
    "\n",
    "response = loadmat(\"data/regression/response.mat\")['response']\n",
    "vel = loadmat(\"data/regression/velocity.mat\")['velocity']"
   ]
  },
  {
   "cell_type": "code",
   "execution_count": 2,
   "id": "fed657e8",
   "metadata": {
    "scrolled": true
   },
   "outputs": [
    {
     "data": {
      "text/plain": [
       "(15960, 98)"
      ]
     },
     "execution_count": 2,
     "metadata": {},
     "output_type": "execute_result"
    }
   ],
   "source": [
    "response_ = response[:, 1:, 0]\n",
    "vel_ = vel[:, :, 0]\n",
    "\n",
    "for i in range(1, 8):\n",
    "    response_ = np.vstack([response_, response[:, 1:, i]])\n",
    "    vel_ = np.vstack([vel_, vel[:, :, i]])\n",
    "    \n",
    "response_.shape"
   ]
  },
  {
   "cell_type": "code",
   "execution_count": 3,
   "id": "6065cc31",
   "metadata": {
    "scrolled": true
   },
   "outputs": [
    {
     "name": "stdout",
     "output_type": "stream",
     "text": [
      "X_train: (14364, 98) X_valid: (1596, 98) X_test: (3192, 98)\n"
     ]
    }
   ],
   "source": [
    "X_train, X_test, y_train, y_test = train_test_split(response_, vel_, test_size=0.2, random_state=42, shuffle=True)\n",
    "X_train, X_valid, y_train, y_valid = train_test_split(response_, vel_, test_size=0.1, random_state=42, shuffle=True)\n",
    "\n",
    "print(f\"X_train: {X_train.shape} X_valid: {X_valid.shape} X_test: {X_test.shape}\")"
   ]
  },
  {
   "cell_type": "code",
   "execution_count": 4,
   "id": "a8fc1f0d",
   "metadata": {},
   "outputs": [],
   "source": [
    "def print_metrics(y_test, pred):\n",
    "    mae = mean_absolute_error(y_test, pred)\n",
    "    mse = mean_squared_error(y_test, pred)\n",
    "    r2 = r2_score(y_test, pred)\n",
    "    \n",
    "    print(f\"MAE: {mae} MSE: {mse} R2: {r2}\")"
   ]
  },
  {
   "cell_type": "code",
   "execution_count": 5,
   "id": "4a66ff32",
   "metadata": {},
   "outputs": [
    {
     "name": "stdout",
     "output_type": "stream",
     "text": [
      "MAE: 0.1902411520479643 MSE: 0.06758910457899983 R2: 0.38975893562824326\n"
     ]
    }
   ],
   "source": [
    "lm = MultiOutputRegressor(LinearRegression()).fit(X_train, y_train)\n",
    "pred = lm.predict(X_test)\n",
    "\n",
    "print_metrics(y_test, pred)"
   ]
  },
  {
   "cell_type": "code",
   "execution_count": 6,
   "id": "c32604c9",
   "metadata": {},
   "outputs": [
    {
     "name": "stdout",
     "output_type": "stream",
     "text": [
      "MAE: 0.1388870263507495 MSE: 0.03755577691284195 R2: 0.6585613031416631\n"
     ]
    }
   ],
   "source": [
    "svr = MultiOutputRegressor(SVR()).fit(X_train, y_train)\n",
    "pred = svr.predict(X_test)\n",
    "\n",
    "print_metrics(y_test, pred)"
   ]
  },
  {
   "cell_type": "code",
   "execution_count": 7,
   "id": "16db67ae",
   "metadata": {},
   "outputs": [
    {
     "name": "stdout",
     "output_type": "stream",
     "text": [
      "MAE: 0.12044890834879171 MSE: 0.061570229866166254 R2: 0.43926976902324416\n"
     ]
    }
   ],
   "source": [
    "tree = MultiOutputRegressor(DecisionTreeRegressor()).fit(X_train, y_train)\n",
    "pred = tree.predict(X_test)\n",
    "\n",
    "print_metrics(y_test, pred)"
   ]
  },
  {
   "cell_type": "code",
   "execution_count": 8,
   "id": "c894c2b2",
   "metadata": {
    "scrolled": false
   },
   "outputs": [
    {
     "name": "stderr",
     "output_type": "stream",
     "text": [
      "2021-12-18 18:37:26.139576: I tensorflow/compiler/mlir/mlir_graph_optimization_pass.cc:185] None of the MLIR Optimization Passes are enabled (registered 2)\n",
      "2021-12-18 18:37:26.139736: W tensorflow/core/platform/profile_utils/cpu_utils.cc:128] Failed to get CPU frequency: 0 Hz\n"
     ]
    },
    {
     "name": "stdout",
     "output_type": "stream",
     "text": [
      "MAE: 0.19620818219749278 MSE: 0.09490343526935349 R2: 0.17659750412745112\n"
     ]
    }
   ],
   "source": [
    "model = tf.keras.Sequential([\n",
    "    tf.keras.layers.Dense(128, activation='relu', input_shape=[98]),\n",
    "    tf.keras.layers.Dense(64, activation='relu'),\n",
    "    tf.keras.layers.Dense(32, activation='relu'),\n",
    "    tf.keras.layers.Dense(16, activation='relu'),\n",
    "    tf.keras.layers.Dense(8, activation='relu'),\n",
    "    tf.keras.layers.Dense(4, activation='relu'),\n",
    "    tf.keras.layers.Dense(2)\n",
    "])\n",
    "\n",
    "optimizer = tf.keras.optimizers.Adam(0.0001)\n",
    "\n",
    "model.compile(loss='mae',\n",
    "              optimizer=optimizer,\n",
    "              metrics=['mae', 'mse'])\n",
    "\n",
    "model.fit(X_train, y_train, epochs=50, verbose=0)\n",
    "pred = model.predict(X_test)\n",
    "\n",
    "print_metrics(y_test, pred)"
   ]
  },
  {
   "cell_type": "code",
   "execution_count": null,
   "id": "8566ba2e",
   "metadata": {},
   "outputs": [],
   "source": []
  }
 ],
 "metadata": {
  "kernelspec": {
   "display_name": "Python 3 (ipykernel)",
   "language": "python",
   "name": "python3"
  },
  "language_info": {
   "codemirror_mode": {
    "name": "ipython",
    "version": 3
   },
   "file_extension": ".py",
   "mimetype": "text/x-python",
   "name": "python",
   "nbconvert_exporter": "python",
   "pygments_lexer": "ipython3",
   "version": "3.8.12"
  }
 },
 "nbformat": 4,
 "nbformat_minor": 5
}
