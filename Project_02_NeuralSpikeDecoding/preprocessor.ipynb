{
 "cells": [
  {
   "cell_type": "code",
   "execution_count": 14,
   "id": "f0d80a59",
   "metadata": {
    "scrolled": true
   },
   "outputs": [
    {
     "name": "stdout",
     "output_type": "stream",
     "text": [
      "800\n"
     ]
    }
   ],
   "source": [
    "import numpy as np\n",
    "from scipy.io import loadmat\n",
    "\n",
    "data = loadmat(\"data/monkeydata.mat\")['trial']\n",
    "window_size_list = [500, 400, 300, 200, 100, 50]\n",
    "\n",
    "results_dict = {\n",
    "    \"target\": [], \n",
    "    \"window_size_500\": [],\n",
    "    \"window_size_400\": [],\n",
    "    \"window_size_300\": [],\n",
    "    \"window_size_200\": [],\n",
    "    \"window_size_100\": [],\n",
    "    \"window_size_50\": []\n",
    "}\n",
    "\n",
    "for trials in data:\n",
    "    for target, trial in enumerate(trials):\n",
    "        trial_number = trial[0]\n",
    "        spike_timing = trial[1]\n",
    "        hand_pos = trial[2]\n",
    "        \n",
    "        results_dict[\"target\"].append(target)\n",
    "\n",
    "        for window_size in window_size_list:\n",
    "            results_dict[f\"window_size_{window_size}\"].append(np.sum(spike_timing[:, - window_size:], axis=1))\n",
    "    \n",
    "print(len(results_dict['target']))"
   ]
  },
  {
   "cell_type": "code",
   "execution_count": 15,
   "id": "a21c5320",
   "metadata": {},
   "outputs": [],
   "source": [
    "import pickle \n",
    "\n",
    "with open(\"data/preprocessed_data.pkl\", \"wb\") as f:\n",
    "    pickle.dump(results_dict, f)"
   ]
  },
  {
   "cell_type": "code",
   "execution_count": null,
   "id": "06393247",
   "metadata": {},
   "outputs": [],
   "source": []
  }
 ],
 "metadata": {
  "kernelspec": {
   "display_name": "Python 3 (ipykernel)",
   "language": "python",
   "name": "python3"
  },
  "language_info": {
   "codemirror_mode": {
    "name": "ipython",
    "version": 3
   },
   "file_extension": ".py",
   "mimetype": "text/x-python",
   "name": "python",
   "nbconvert_exporter": "python",
   "pygments_lexer": "ipython3",
   "version": "3.9.6"
  }
 },
 "nbformat": 4,
 "nbformat_minor": 5
}
