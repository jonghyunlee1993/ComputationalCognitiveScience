{
 "cells": [
  {
   "cell_type": "code",
   "execution_count": 3,
   "id": "5b68e0e6",
   "metadata": {},
   "outputs": [],
   "source": [
    "import numpy as np\n",
    "from scipy.io import loadmat\n",
    "from sklearn.model_selection import train_test_split\n",
    "\n",
    "import torch\n",
    "import torch.nn as nn\n",
    "import torch.nn.functional as F\n",
    "from torch.utils.data import Dataset, DataLoader\n",
    "\n",
    "import torchmetrics\n",
    "import pytorch_lightning as pl\n",
    "from pytorch_lightning.callbacks import EarlyStopping\n",
    "\n",
    "\n",
    "data = loadmat(\"data/monkeydata.mat\")['trial']\n",
    "\n",
    "spike, pos, y = [], [], []\n",
    "\n",
    "for trials in data:\n",
    "    for target, trial in enumerate(trials):\n",
    "        spike.append(trial[1])\n",
    "        pos.append(trial[2])\n",
    "        y.append(target)"
   ]
  },
  {
   "cell_type": "code",
   "execution_count": 6,
   "id": "9e40d993",
   "metadata": {},
   "outputs": [
    {
     "data": {
      "text/plain": [
       "(3, 672)"
      ]
     },
     "execution_count": 6,
     "metadata": {},
     "output_type": "execute_result"
    }
   ],
   "source": [
    "pos[0].shape"
   ]
  },
  {
   "cell_type": "code",
   "execution_count": 9,
   "id": "6f644c04",
   "metadata": {},
   "outputs": [
    {
     "data": {
      "image/png": "[encoded data removed]",
      "text/plain": [
       "<Figure size 432x288 with 1 Axes>"
      ]
     },
     "metadata": {
      "needs_background": "light"
     },
     "output_type": "display_data"
    }
   ],
   "source": [
    "import matplotlib.pyplot as plt\n",
    "import seaborn as sns\n",
    "\n",
    "for i in range(100):\n",
    "    plt.scatter(pos[i][0, :], pos[i][1, :])\n",
    "\n",
    "plt.show()"
   ]
  },
  {
   "cell_type": "code",
   "execution_count": 17,
   "id": "14873a8d",
   "metadata": {},
   "outputs": [
    {
     "data": {
      "text/plain": [
       "329.09159608028904"
      ]
     },
     "execution_count": 17,
     "metadata": {},
     "output_type": "execute_result"
    }
   ],
   "source": [
    "import numpy as np\n",
    "\n",
    "def angle_between(p1, p2):\n",
    "    ang1 = np.arctan2(*p1[::-1])\n",
    "    ang2 = np.arctan2(*p2[::-1])\n",
    "    return np.rad2deg((ang1 - ang2) % (2 * np.pi))\n",
    "\n",
    "p1 = [0, 0]\n",
    "p2 = [pos[0][0, -1], pos[0][1, -1]]\n",
    "angle_between(p1, p2)"
   ]
  },
  {
   "cell_type": "code",
   "execution_count": 27,
   "id": "b55b6ed1",
   "metadata": {},
   "outputs": [
    {
     "data": {
      "text/plain": [
       "45.0"
      ]
     },
     "execution_count": 27,
     "metadata": {},
     "output_type": "execute_result"
    }
   ],
   "source": [
    "angle_between((0, 1), (1, 1))"
   ]
  },
  {
   "cell_type": "code",
   "execution_count": 26,
   "id": "0b1b5ffe",
   "metadata": {},
   "outputs": [
    {
     "data": {
      "text/plain": [
       "90.0"
      ]
     },
     "execution_count": 26,
     "metadata": {},
     "output_type": "execute_result"
    }
   ],
   "source": [
    "angle_between((0, 1), (1, 0))"
   ]
  },
  {
   "cell_type": "code",
   "execution_count": 29,
   "id": "5983762e",
   "metadata": {},
   "outputs": [
    {
     "data": {
      "text/plain": [
       "225.0"
      ]
     },
     "execution_count": 29,
     "metadata": {},
     "output_type": "execute_result"
    }
   ],
   "source": [
    "angle_between((0, 1), (-1, -1))"
   ]
  },
  {
   "cell_type": "code",
   "execution_count": 28,
   "id": "fe3959fb",
   "metadata": {},
   "outputs": [
    {
     "data": {
      "text/plain": [
       "270.0"
      ]
     },
     "execution_count": 28,
     "metadata": {},
     "output_type": "execute_result"
    }
   ],
   "source": [
    "angle_between((0, 1), (-1, 0))"
   ]
  },
  {
   "cell_type": "code",
   "execution_count": 32,
   "id": "d77c8357",
   "metadata": {},
   "outputs": [
    {
     "name": "stdout",
     "output_type": "stream",
     "text": [
      "59.091596080289044\n",
      "16.546007645496474\n",
      "333.68935737438613\n",
      "296.419270484818\n",
      "257.1481894113978\n",
      "224.13137702502388\n",
      "141.2941655780882\n",
      "101.08278058282205\n"
     ]
    }
   ],
   "source": [
    "import math\n",
    "\n",
    "for i in range(8):\n",
    "    p1 = (0, 1)\n",
    "    p2 = [pos[i][0, -1], pos[i][1, -1]]\n",
    "    \n",
    "    print(angle_between(p1, p2))"
   ]
  },
  {
   "cell_type": "code",
   "execution_count": null,
   "id": "29c25a4f",
   "metadata": {},
   "outputs": [],
   "source": []
  }
 ],
 "metadata": {
  "kernelspec": {
   "display_name": "Python 3 (ipykernel)",
   "language": "python",
   "name": "python3"
  },
  "language_info": {
   "codemirror_mode": {
    "name": "ipython",
    "version": 3
   },
   "file_extension": ".py",
   "mimetype": "text/x-python",
   "name": "python",
   "nbconvert_exporter": "python",
   "pygments_lexer": "ipython3",
   "version": "3.9.6"
  }
 },
 "nbformat": 4,
 "nbformat_minor": 5
}
