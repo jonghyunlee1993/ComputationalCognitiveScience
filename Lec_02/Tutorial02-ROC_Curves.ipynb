{
 "cells": [
  {
   "cell_type": "code",
   "execution_count": 1,
   "metadata": {},
   "outputs": [],
   "source": [
    "import numpy as np\n",
    "import scipy.stats as stats\n",
    "import statistics\n",
    "import matplotlib.pyplot as plt"
   ]
  },
  {
   "cell_type": "code",
   "execution_count": 11,
   "metadata": {},
   "outputs": [],
   "source": [
    "variance, noiseMean, signalMean = 1, 0, 1\n",
    "criterionList = np.linspace(-3, 3, 100)\n",
    "nTrials = 100\n",
    "C = len(criterionList)"
   ]
  },
  {
   "cell_type": "code",
   "execution_count": 12,
   "metadata": {},
   "outputs": [],
   "source": [
    "pCR  = np.zeros(C)\n",
    "pHit = np.zeros(C)\n",
    "dPrimeEst = np.zeros(C)"
   ]
  },
  {
   "cell_type": "code",
   "execution_count": 13,
   "metadata": {},
   "outputs": [],
   "source": [
    "for criterionNum in range(C):\n",
    "    criterion = criterionList[criterionNum]\n",
    "    stim_temp = np.floor(np.linspace(0.5, 1.5, nTrials))\n",
    "    stim = stim_temp[np.random.permutation(range(nTrials))]\n",
    "    \n",
    "    resp = np.zeros(nTrials)\n",
    "    internalResponse = np.zeros(nTrials)\n",
    "    for t in range(nTrials):\n",
    "        if stim[t] == 0:\n",
    "            internalResponse[t] = ...\n",
    "        else:\n",
    "            internalResponse[t] = ...\n",
    "        resp[t] = internalResponse[t] > criterion\n",
    "        \n",
    "    ## Correct Rejection\n",
    "    pCR[criterionNum] = ...\n",
    "    if pCR[criterionNum]==0.0 or pCR[criterionNum]==1.0:\n",
    "        zCR = np.nan\n",
    "    else: \n",
    "        zCR = statistics.NormalDist().inv_cdf(pCR[criterionNum])\n",
    "        \n",
    "    ## Hits\n",
    "    pHit[criterionNum] = ...\n",
    "    if pHit[criterionNum]==0.0 or pHit[criterionNum]==1.0:\n",
    "        zHit = np.nan\n",
    "    else:\n",
    "        zHit = statistics.NormalDist().inv_cdf(pHit[criterionNum])\n",
    "        \n",
    "    dPrimeEst[criterionNum] =zCR + zHit\n",
    "        \n",
    "\n",
    "        "
   ]
  },
  {
   "cell_type": "code",
   "execution_count": 14,
   "metadata": {},
   "outputs": [
    {
     "data": {
      "image/png": "[encoded data removed]",
      "text/plain": [
       "<Figure size 432x288 with 1 Axes>"
      ]
     },
     "metadata": {
      "needs_background": "light"
     },
     "output_type": "display_data"
    }
   ],
   "source": [
    "# Display results step-by-step\n",
    "dPrime = (signalMean - noiseMean)/np.sqrt(variance)\n",
    "pFA = 1-pCR\n",
    "\n",
    "pHitReal = np.array([1- statistics.NormalDist(signalMean, np.sqrt(variance)).cdf(c) for c in criterionList])\n",
    "pFAReal = np.array([1- statistics.NormalDist(noiseMean, np.sqrt(variance)).cdf(c) for c in criterionList])\n",
    "\n",
    "area_under_curve = np.trapz(sorted(pHit),sorted(pFA))\n",
    "plt.plot(pFA, pHit, 'b.')\n",
    "plt.plot(pFAReal, pHitReal, 'k')\n",
    "plt.xlabel('p (False Alarm)')\n",
    "plt.ylabel('p (Hit)')\n",
    "plt.text(0.7, 0.3, 'auc = {:04.3f}'.format(area_under_curve), size=15)\n",
    "plt.show()\n"
   ]
  },
  {
   "cell_type": "code",
   "execution_count": 15,
   "metadata": {},
   "outputs": [
    {
     "name": "stdout",
     "output_type": "stream",
     "text": [
      "0.704\n",
      "[ 3.58276072  2.58276072  2.3538378   2.33375814  1.84394811  1.76628575\n",
      "  1.73326352  1.66379063  1.50237834  1.48522563  1.44507445  1.37669333\n",
      "  1.05382158  1.03588056  0.88729177  0.84730108  0.55086518  0.43969793\n",
      "  0.38689064  0.24359469  0.22539537  0.1430734   0.10265556  0.04989989\n",
      "  0.04428605 -0.07747885 -0.14073685 -0.23871613 -0.24289529 -0.24550201\n",
      " -0.25279112 -0.27089668 -0.27175828 -0.58487457 -0.64445818 -0.81159099\n",
      " -0.83984686 -1.75769152 -1.79289563 -2.0913586 ]\n",
      "[-3.         -2.93939394 -2.87878788 -2.81818182 -2.75757576 -2.6969697\n",
      " -2.63636364 -2.57575758 -2.51515152 -2.45454545 -2.39393939 -2.33333333\n",
      " -2.27272727 -2.21212121 -2.15151515 -2.09090909 -2.03030303 -1.96969697\n",
      " -1.90909091 -1.84848485 -1.78787879 -1.72727273 -1.66666667 -1.60606061\n",
      " -1.54545455 -1.48484848 -1.42424242 -1.36363636 -1.3030303  -1.24242424\n",
      " -1.18181818 -1.12121212 -1.06060606 -1.         -0.93939394 -0.87878788\n",
      " -0.81818182 -0.75757576 -0.6969697  -0.63636364 -0.57575758 -0.51515152\n",
      " -0.45454545 -0.39393939 -0.33333333 -0.27272727 -0.21212121 -0.15151515\n",
      " -0.09090909 -0.03030303  0.03030303  0.09090909  0.15151515  0.21212121\n",
      "  0.27272727  0.33333333  0.39393939  0.45454545  0.51515152  0.57575758\n",
      "  0.63636364  0.6969697   0.75757576  0.81818182  0.87878788  0.93939394\n",
      "  1.          1.06060606  1.12121212  1.18181818  1.24242424  1.3030303\n",
      "  1.36363636  1.42424242  1.48484848  1.54545455  1.60606061  1.66666667\n",
      "  1.72727273  1.78787879  1.84848485  1.90909091  1.96969697  2.03030303\n",
      "  2.09090909  2.15151515  2.21212121  2.27272727  2.33333333  2.39393939\n",
      "  2.45454545  2.51515152  2.57575758  2.63636364  2.6969697   2.75757576\n",
      "  2.81818182  2.87878788  2.93939394  3.        ]\n"
     ]
    },
    {
     "data": {
      "image/png": "[encoded data removed]",
      "text/plain": [
       "<Figure size 432x288 with 1 Axes>"
      ]
     },
     "metadata": {
      "needs_background": "light"
     },
     "output_type": "display_data"
    }
   ],
   "source": [
    "from sklearn import metrics\n",
    "fpr, tpr, thresholds = metrics.roc_curve(stim, internalResponse, pos_label=1)\n",
    "plt.plot(sorted(pFAReal),sorted(pHitReal))\n",
    "plt.plot(pFA, pHit,'.')\n",
    "area_under_curve2 = metrics.auc(sorted(fpr), sorted(tpr))\n",
    "print(area_under_curve2)\n",
    "print(thresholds)\n",
    "print(criterionList)"
   ]
  },
  {
   "cell_type": "code",
   "execution_count": null,
   "metadata": {},
   "outputs": [],
   "source": []
  },
  {
   "cell_type": "code",
   "execution_count": null,
   "metadata": {},
   "outputs": [],
   "source": []
  }
 ],
 "metadata": {
  "kernelspec": {
   "display_name": "Python 3",
   "language": "python",
   "name": "python3"
  },
  "language_info": {
   "codemirror_mode": {
    "name": "ipython",
    "version": 3
   },
   "file_extension": ".py",
   "mimetype": "text/x-python",
   "name": "python",
   "nbconvert_exporter": "python",
   "pygments_lexer": "ipython3",
   "version": "3.9.4"
  }
 },
 "nbformat": 4,
 "nbformat_minor": 4
}
