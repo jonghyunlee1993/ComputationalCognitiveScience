{
 "cells": [
  {
   "cell_type": "code",
   "execution_count": 1,
   "id": "e62fc272",
   "metadata": {
    "scrolled": true
   },
   "outputs": [
    {
     "name": "stderr",
     "output_type": "stream",
     "text": [
      "/home/ubuntu/anaconda3/envs/pytorch/lib/python3.8/site-packages/brainscore/metrics/__init__.py:37: FutureWarning: xarray subclass Score should explicitly define __slots__\n",
      "  class Score(DataAssembly):\n"
     ]
    }
   ],
   "source": [
    "import torch \n",
    "import torchvision\n",
    "import functools\n",
    "import numpy as np\n",
    "from torch import nn\n",
    "\n",
    "from brainscore import score_model\n",
    "from brainscore.benchmarks import public_benchmark_pool\n",
    "from model_tools.activations.pytorch import PytorchWrapper\n",
    "from model_tools.activations.pytorch import load_preprocess_images\n",
    "from model_tools.brain_transformation import ModelCommitment\n",
    "from model_tools.check_submission import check_models\n",
    "\n",
    "model = torchvision.models.alexnet(pretrained=True).to(\"cpu\")\n",
    "preprocessing = functools.partial(load_preprocess_images, image_size=224)\n",
    "activations_model = PytorchWrapper(identifier='alexnet', model=model, preprocessing=preprocessing)\n",
    "activations_model.image_size = 224\n"
   ]
  },
  {
   "cell_type": "code",
   "execution_count": 2,
   "id": "47cb85f8",
   "metadata": {
    "scrolled": false
   },
   "outputs": [
    {
     "data": {
      "text/plain": [
       "AlexNet(\n",
       "  (features): Sequential(\n",
       "    (0): Conv2d(3, 64, kernel_size=(11, 11), stride=(4, 4), padding=(2, 2))\n",
       "    (1): ReLU(inplace=True)\n",
       "    (2): MaxPool2d(kernel_size=3, stride=2, padding=0, dilation=1, ceil_mode=False)\n",
       "    (3): Conv2d(64, 192, kernel_size=(5, 5), stride=(1, 1), padding=(2, 2))\n",
       "    (4): ReLU(inplace=True)\n",
       "    (5): MaxPool2d(kernel_size=3, stride=2, padding=0, dilation=1, ceil_mode=False)\n",
       "    (6): Conv2d(192, 384, kernel_size=(3, 3), stride=(1, 1), padding=(1, 1))\n",
       "    (7): ReLU(inplace=True)\n",
       "    (8): Conv2d(384, 256, kernel_size=(3, 3), stride=(1, 1), padding=(1, 1))\n",
       "    (9): ReLU(inplace=True)\n",
       "    (10): Conv2d(256, 256, kernel_size=(3, 3), stride=(1, 1), padding=(1, 1))\n",
       "    (11): ReLU(inplace=True)\n",
       "    (12): MaxPool2d(kernel_size=3, stride=2, padding=0, dilation=1, ceil_mode=False)\n",
       "  )\n",
       "  (avgpool): AdaptiveAvgPool2d(output_size=(6, 6))\n",
       "  (classifier): Sequential(\n",
       "    (0): Dropout(p=0.5, inplace=False)\n",
       "    (1): Linear(in_features=9216, out_features=4096, bias=True)\n",
       "    (2): ReLU(inplace=True)\n",
       "    (3): Dropout(p=0.5, inplace=False)\n",
       "    (4): Linear(in_features=4096, out_features=4096, bias=True)\n",
       "    (5): ReLU(inplace=True)\n",
       "    (6): Linear(in_features=4096, out_features=1000, bias=True)\n",
       "  )\n",
       ")"
      ]
     },
     "execution_count": 2,
     "metadata": {},
     "output_type": "execute_result"
    }
   ],
   "source": [
    "model"
   ]
  },
  {
   "cell_type": "code",
   "execution_count": 3,
   "id": "a466d630",
   "metadata": {},
   "outputs": [
    {
     "name": "stderr",
     "output_type": "stream",
     "text": [
      "layers:   0%|          | 0/2 [00:00<?, ?it/s]\n",
      "cross-validation:   0%|          | 0/10 [00:00<?, ?it/s]\u001b[A\n",
      "cross-validation:  10%|█         | 1/10 [00:20<03:04, 20.46s/it]\u001b[A\n",
      "cross-validation:  20%|██        | 2/10 [00:46<03:11, 23.94s/it]\u001b[A\n",
      "cross-validation:  30%|███       | 3/10 [01:15<03:01, 25.95s/it]\u001b[A\n",
      "cross-validation:  40%|████      | 4/10 [01:39<02:31, 25.25s/it]\u001b[A\n",
      "cross-validation:  50%|█████     | 5/10 [02:09<02:15, 27.08s/it]\u001b[A\n",
      "cross-validation:  60%|██████    | 6/10 [02:38<01:51, 27.81s/it]\u001b[A\n",
      "cross-validation:  70%|███████   | 7/10 [03:11<01:28, 29.50s/it]\u001b[A\n",
      "cross-validation:  80%|████████  | 8/10 [03:41<00:59, 29.59s/it]\u001b[A\n",
      "cross-validation:  90%|█████████ | 9/10 [04:09<00:28, 28.99s/it]\u001b[A\n",
      "cross-validation: 100%|██████████| 10/10 [04:32<00:00, 27.28s/it]\u001b[A\n",
      "layers:  50%|█████     | 1/2 [04:32<04:32, 272.93s/it]\n",
      "cross-validation:   0%|          | 0/10 [00:00<?, ?it/s]\u001b[A\n",
      "cross-validation:  10%|█         | 1/10 [00:21<03:10, 21.16s/it]\u001b[A\n",
      "cross-validation:  20%|██        | 2/10 [00:43<02:55, 21.93s/it]\u001b[A\n",
      "cross-validation:  30%|███       | 3/10 [01:08<02:43, 23.43s/it]\u001b[A\n",
      "cross-validation:  40%|████      | 4/10 [01:36<02:30, 25.14s/it]\u001b[A\n",
      "cross-validation:  50%|█████     | 5/10 [02:00<02:03, 24.75s/it]\u001b[A\n",
      "cross-validation:  60%|██████    | 6/10 [02:21<01:34, 23.51s/it]\u001b[A\n",
      "cross-validation:  70%|███████   | 7/10 [02:46<01:11, 23.76s/it]\u001b[A\n",
      "cross-validation:  80%|████████  | 8/10 [03:07<00:46, 23.06s/it]\u001b[A\n",
      "cross-validation:  90%|█████████ | 9/10 [03:32<00:23, 23.77s/it]\u001b[A\n",
      "cross-validation: 100%|██████████| 10/10 [03:57<00:00, 23.71s/it]\u001b[A\n",
      "layers: 100%|██████████| 2/2 [08:30<00:00, 255.05s/it]\n",
      "activations: 100%|██████████| 192/192 [00:10<00:00, 18.36it/s]\n",
      "layer packaging: 100%|██████████| 1/1 [00:00<00:00,  5.62it/s]\n",
      "cross-validation: 100%|██████████| 10/10 [12:53<00:00, 77.37s/it]"
     ]
    },
    {
     "name": "stdout",
     "output_type": "stream",
     "text": [
      "<xarray.Score (aggregation: 2)>\n",
      "array([0.29724036, 0.00816442])\n",
      "Coordinates:\n",
      "  * aggregation  (aggregation) <U6 'center' 'error'\n",
      "Attributes:\n",
      "    raw:                   <xarray.Score (aggregation: 2)>\\narray([0.48018942...\n",
      "    ceiling:               <xarray.Score (aggregation: 2)>\\narray([0.88076227...\n",
      "    model_identifier:      alexnet\n",
      "    benchmark_identifier:  movshon.FreemanZiemba2013public.V1-pls\n"
     ]
    },
    {
     "name": "stderr",
     "output_type": "stream",
     "text": [
      "\n"
     ]
    }
   ],
   "source": [
    "commited_model = ModelCommitment(identifier='alexnet', activations_model=activations_model,\n",
    "                                 layers=['features.2', 'features.12'])\n",
    "\n",
    "score = score_model(model_identifier='alexnet', model=commited_model,\n",
    "                    benchmark_identifier='movshon.FreemanZiemba2013public.V1-pls')\n",
    "\n",
    "print(score)"
   ]
  },
  {
   "cell_type": "code",
   "execution_count": 4,
   "id": "2129fd18",
   "metadata": {},
   "outputs": [
    {
     "name": "stdout",
     "output_type": "stream",
     "text": [
      "Loading lookup from entrypoints\n",
      "Loading lookup from /home/ubuntu/anaconda3/envs/pytorch/lib/python3.8/site-packages/brainscore/lookup.csv\n"
     ]
    },
    {
     "name": "stderr",
     "output_type": "stream",
     "text": [
      "layers:   0%|          | 0/2 [00:00<?, ?it/s]\n",
      "cross-validation:   0%|          | 0/10 [00:00<?, ?it/s]\u001b[A\n",
      "cross-validation:  10%|█         | 1/10 [00:28<04:14, 28.28s/it]\u001b[A\n",
      "cross-validation:  20%|██        | 2/10 [01:14<05:09, 38.69s/it]\u001b[A\n",
      "cross-validation:  30%|███       | 3/10 [01:50<04:22, 37.50s/it]\u001b[A\n",
      "cross-validation:  40%|████      | 4/10 [02:22<03:33, 35.59s/it]\u001b[A\n",
      "cross-validation:  50%|█████     | 5/10 [02:59<02:58, 35.78s/it]\u001b[A\n",
      "cross-validation:  60%|██████    | 6/10 [03:29<02:16, 34.06s/it]\u001b[A\n",
      "cross-validation:  70%|███████   | 7/10 [04:07<01:45, 35.31s/it]\u001b[A\n",
      "cross-validation:  80%|████████  | 8/10 [04:36<01:06, 33.26s/it]\u001b[A\n",
      "cross-validation:  90%|█████████ | 9/10 [05:07<00:32, 32.55s/it]\u001b[A\n",
      "cross-validation: 100%|██████████| 10/10 [05:40<00:00, 34.09s/it]\u001b[A\n",
      "\n",
      "cross-validation:   0%|          | 0/10 [00:00<?, ?it/s]\u001b[A\n",
      "cross-validation:  10%|█         | 1/10 [00:00<00:04,  2.01it/s]\u001b[A\n",
      "cross-validation:  20%|██        | 2/10 [00:00<00:03,  2.40it/s]\u001b[A\n",
      "cross-validation:  30%|███       | 3/10 [00:01<00:02,  2.57it/s]\u001b[A\n",
      "cross-validation:  40%|████      | 4/10 [00:01<00:02,  2.65it/s]\u001b[A\n",
      "cross-validation:  50%|█████     | 5/10 [00:01<00:01,  2.67it/s]\u001b[A\n",
      "cross-validation:  60%|██████    | 6/10 [00:02<00:01,  2.68it/s]\u001b[A\n",
      "cross-validation:  70%|███████   | 7/10 [00:02<00:01,  2.72it/s]\u001b[A\n",
      "cross-validation:  80%|████████  | 8/10 [00:03<00:00,  2.69it/s]\u001b[A\n",
      "cross-validation:  90%|█████████ | 9/10 [00:03<00:00,  2.69it/s]\u001b[A\n",
      "cross-validation: 100%|██████████| 10/10 [00:03<00:00,  2.64it/s]\u001b[A\n",
      "layers:  50%|█████     | 1/2 [05:49<05:49, 349.77s/it]\n",
      "cross-validation:   0%|          | 0/10 [00:00<?, ?it/s]\u001b[A\n",
      "cross-validation:  10%|█         | 1/10 [00:22<03:26, 22.95s/it]\u001b[A\n",
      "cross-validation:  20%|██        | 2/10 [00:50<03:23, 25.42s/it]\u001b[A\n",
      "cross-validation:  30%|███       | 3/10 [01:16<03:00, 25.80s/it]\u001b[A\n",
      "cross-validation:  40%|████      | 4/10 [01:39<02:28, 24.81s/it]\u001b[A\n",
      "cross-validation:  50%|█████     | 5/10 [02:09<02:12, 26.49s/it]\u001b[A\n",
      "cross-validation:  60%|██████    | 6/10 [02:38<01:50, 27.55s/it]\u001b[A\n",
      "cross-validation:  70%|███████   | 7/10 [03:01<01:17, 25.87s/it]\u001b[A\n",
      "cross-validation:  80%|████████  | 8/10 [03:29<00:53, 26.71s/it]\u001b[A\n",
      "cross-validation:  90%|█████████ | 9/10 [03:58<00:27, 27.42s/it]\u001b[A\n",
      "cross-validation: 100%|██████████| 10/10 [04:30<00:00, 27.00s/it]\u001b[A\n",
      "layers: 100%|██████████| 2/2 [10:19<00:00, 309.96s/it]\n",
      "activations: 100%|██████████| 192/192 [00:11<00:00, 17.16it/s]\n",
      "layer packaging: 100%|██████████| 1/1 [00:00<00:00, 20.88it/s]\n",
      "cross-validation: 100%|██████████| 10/10 [06:32<00:00, 39.29s/it]"
     ]
    },
    {
     "name": "stdout",
     "output_type": "stream",
     "text": [
      "<xarray.Score (aggregation: 2)>\n",
      "array([0.3073184 , 0.01641874])\n",
      "Coordinates:\n",
      "  * aggregation  (aggregation) <U6 'center' 'error'\n",
      "Attributes:\n",
      "    raw:                   <xarray.Score (aggregation: 2)>\\narray([0.4539591 ...\n",
      "    ceiling:               <xarray.Score (aggregation: 2)>\\narray([0.8188841 ...\n",
      "    model_identifier:      alexnet\n",
      "    benchmark_identifier:  movshon.FreemanZiemba2013public.V2-pls\n"
     ]
    },
    {
     "name": "stderr",
     "output_type": "stream",
     "text": [
      "\n"
     ]
    }
   ],
   "source": [
    "score = score_model(model_identifier='alexnet', model=commited_model,\n",
    "                    benchmark_identifier='movshon.FreemanZiemba2013public.V2-pls')\n",
    "\n",
    "print(score)"
   ]
  },
  {
   "cell_type": "code",
   "execution_count": 5,
   "id": "4b17c5a7",
   "metadata": {},
   "outputs": [
    {
     "name": "stderr",
     "output_type": "stream",
     "text": [
      "layers:   0%|          | 0/2 [00:00<?, ?it/s]\n",
      "activations:   0%|          | 0/3200 [00:00<?, ?it/s]\u001b[A\n",
      "activations:   2%|▏         | 64/3200 [00:03<02:35, 20.21it/s]\u001b[A\n",
      "activations:   4%|▍         | 128/3200 [00:05<02:11, 23.40it/s]\u001b[A\n",
      "activations:   6%|▌         | 192/3200 [00:08<02:10, 23.02it/s]\u001b[A\n",
      "activations:   8%|▊         | 256/3200 [00:11<02:07, 23.01it/s]\u001b[A\n",
      "activations:  10%|█         | 320/3200 [00:14<02:08, 22.36it/s]\u001b[A\n",
      "activations:  12%|█▏        | 384/3200 [00:17<02:07, 22.11it/s]\u001b[A\n",
      "activations:  14%|█▍        | 448/3200 [00:19<02:01, 22.59it/s]\u001b[A\n",
      "activations:  16%|█▌        | 512/3200 [00:22<02:00, 22.23it/s]\u001b[A\n",
      "activations:  18%|█▊        | 576/3200 [00:25<01:58, 22.11it/s]\u001b[A\n",
      "activations:  20%|██        | 640/3200 [00:28<01:58, 21.64it/s]\u001b[A\n",
      "activations:  22%|██▏       | 704/3200 [00:31<01:55, 21.54it/s]\u001b[A\n",
      "activations:  24%|██▍       | 768/3200 [00:34<01:51, 21.80it/s]\u001b[A\n",
      "activations:  26%|██▌       | 832/3200 [00:37<01:48, 21.74it/s]\u001b[A\n",
      "activations:  28%|██▊       | 896/3200 [00:40<01:46, 21.73it/s]\u001b[A\n",
      "activations:  30%|███       | 960/3200 [00:43<01:41, 21.99it/s]\u001b[A\n",
      "activations:  32%|███▏      | 1024/3200 [00:46<01:39, 21.90it/s]\u001b[A\n",
      "activations:  34%|███▍      | 1088/3200 [00:49<01:36, 21.77it/s]\u001b[A\n",
      "activations:  36%|███▌      | 1152/3200 [00:52<01:33, 21.82it/s]\u001b[A\n",
      "activations:  38%|███▊      | 1216/3200 [00:55<01:31, 21.66it/s]\u001b[A\n",
      "activations:  40%|████      | 1280/3200 [00:58<01:29, 21.45it/s]\u001b[A\n",
      "activations:  42%|████▏     | 1344/3200 [01:01<01:26, 21.35it/s]\u001b[A\n",
      "activations:  44%|████▍     | 1408/3200 [01:04<01:21, 21.92it/s]\u001b[A\n",
      "activations:  46%|████▌     | 1472/3200 [01:07<01:20, 21.59it/s]\u001b[A\n",
      "activations:  48%|████▊     | 1536/3200 [01:10<01:17, 21.35it/s]\u001b[A\n",
      "activations:  50%|█████     | 1600/3200 [01:13<01:13, 21.88it/s]\u001b[A\n",
      "activations:  52%|█████▏    | 1664/3200 [01:16<01:10, 21.66it/s]\u001b[A\n",
      "activations:  54%|█████▍    | 1728/3200 [01:19<01:08, 21.53it/s]\u001b[A\n",
      "activations:  56%|█████▌    | 1792/3200 [01:22<01:05, 21.50it/s]\u001b[A\n",
      "activations:  58%|█████▊    | 1856/3200 [01:25<01:02, 21.44it/s]\u001b[A\n",
      "activations:  60%|██████    | 1920/3200 [01:28<01:00, 21.28it/s]\u001b[A\n",
      "activations:  62%|██████▏   | 1984/3200 [01:31<00:57, 21.24it/s]\u001b[A\n",
      "activations:  64%|██████▍   | 2048/3200 [01:34<00:53, 21.56it/s]\u001b[A\n",
      "activations:  66%|██████▌   | 2112/3200 [01:36<00:48, 22.42it/s]\u001b[A\n",
      "activations:  68%|██████▊   | 2176/3200 [01:39<00:46, 22.19it/s]\u001b[A\n",
      "activations:  70%|███████   | 2240/3200 [01:42<00:43, 22.06it/s]\u001b[A\n",
      "activations:  72%|███████▏  | 2304/3200 [01:45<00:39, 22.76it/s]\u001b[A\n",
      "activations:  74%|███████▍  | 2368/3200 [01:48<00:37, 22.41it/s]\u001b[A\n",
      "activations:  76%|███████▌  | 2432/3200 [01:51<00:34, 22.24it/s]\u001b[A\n",
      "activations:  78%|███████▊  | 2496/3200 [01:53<00:30, 22.81it/s]\u001b[A\n",
      "activations:  80%|████████  | 2560/3200 [01:56<00:28, 22.37it/s]\u001b[A\n",
      "activations:  82%|████████▏ | 2624/3200 [01:59<00:25, 22.16it/s]\u001b[A\n",
      "activations:  84%|████████▍ | 2688/3200 [02:02<00:23, 21.83it/s]\u001b[A\n",
      "activations:  86%|████████▌ | 2752/3200 [02:05<00:19, 22.76it/s]\u001b[A\n",
      "activations:  88%|████████▊ | 2816/3200 [02:08<00:17, 22.15it/s]\u001b[A\n",
      "activations:  90%|█████████ | 2880/3200 [02:11<00:14, 22.00it/s]\u001b[A\n",
      "activations:  92%|█████████▏| 2944/3200 [02:13<00:11, 22.49it/s]\u001b[A\n",
      "activations:  94%|█████████▍| 3008/3200 [02:16<00:08, 22.77it/s]\u001b[A\n",
      "activations:  96%|█████████▌| 3072/3200 [02:19<00:05, 23.50it/s]\u001b[A\n",
      "activations:  98%|█████████▊| 3136/3200 [02:22<00:02, 23.13it/s]\u001b[A\n",
      "activations: 100%|██████████| 3200/3200 [02:24<00:00, 22.08it/s]\u001b[A\n",
      "\n",
      "layer packaging: 100%|██████████| 2/2 [00:00<00:00, 86.01it/s]\n",
      "\n",
      "cross-validation:   0%|          | 0/10 [00:00<?, ?it/s]\u001b[A\n",
      "cross-validation:  10%|█         | 1/10 [00:27<04:09, 27.76s/it]\u001b[A\n",
      "cross-validation:  20%|██        | 2/10 [01:02<04:14, 31.77s/it]\u001b[A\n",
      "cross-validation:  30%|███       | 3/10 [01:38<03:54, 33.55s/it]\u001b[A\n",
      "cross-validation:  40%|████      | 4/10 [02:15<03:29, 34.93s/it]\u001b[A\n",
      "cross-validation:  50%|█████     | 5/10 [02:52<02:59, 35.94s/it]\u001b[A\n",
      "cross-validation:  60%|██████    | 6/10 [03:29<02:24, 36.18s/it]\u001b[A\n",
      "cross-validation:  70%|███████   | 7/10 [04:01<01:44, 34.69s/it]\u001b[A\n",
      "cross-validation:  80%|████████  | 8/10 [04:46<01:15, 37.96s/it]\u001b[A\n",
      "cross-validation:  90%|█████████ | 9/10 [05:20<00:37, 37.00s/it]\u001b[A\n",
      "cross-validation: 100%|██████████| 10/10 [06:03<00:00, 36.38s/it]\u001b[A\n",
      "\n",
      "cross-validation:   0%|          | 0/10 [00:00<?, ?it/s]\u001b[A\n",
      "cross-validation:  10%|█         | 1/10 [00:05<00:52,  5.80s/it]\u001b[A\n",
      "cross-validation:  20%|██        | 2/10 [00:11<00:46,  5.82s/it]\u001b[A\n",
      "cross-validation:  30%|███       | 3/10 [00:17<00:40,  5.83s/it]\u001b[A\n",
      "cross-validation:  40%|████      | 4/10 [00:23<00:35,  5.87s/it]\u001b[A\n",
      "cross-validation:  50%|█████     | 5/10 [00:29<00:29,  5.84s/it]\u001b[A\n",
      "cross-validation:  60%|██████    | 6/10 [00:35<00:23,  5.84s/it]\u001b[A\n",
      "cross-validation:  70%|███████   | 7/10 [00:40<00:17,  5.81s/it]\u001b[A\n",
      "cross-validation:  80%|████████  | 8/10 [00:46<00:11,  5.84s/it]\u001b[A\n",
      "cross-validation:  90%|█████████ | 9/10 [00:52<00:05,  5.85s/it]\u001b[A\n",
      "cross-validation: 100%|██████████| 10/10 [00:58<00:00,  5.84s/it]\u001b[A\n",
      "layers:  50%|█████     | 1/2 [09:34<09:34, 574.55s/it]\n",
      "cross-validation:   0%|          | 0/10 [00:00<?, ?it/s]\u001b[A\n",
      "cross-validation:  10%|█         | 1/10 [00:42<06:21, 42.38s/it]\u001b[A\n",
      "cross-validation:  20%|██        | 2/10 [01:24<05:36, 42.03s/it]\u001b[A\n",
      "cross-validation:  30%|███       | 3/10 [02:09<05:04, 43.53s/it]\u001b[A\n",
      "cross-validation:  40%|████      | 4/10 [02:58<04:34, 45.72s/it]\u001b[A\n",
      "cross-validation:  50%|█████     | 5/10 [03:45<03:50, 46.02s/it]\u001b[A\n",
      "cross-validation:  60%|██████    | 6/10 [04:28<03:00, 45.03s/it]\u001b[A\n",
      "cross-validation:  70%|███████   | 7/10 [05:09<02:11, 43.91s/it]\u001b[A\n",
      "cross-validation:  80%|████████  | 8/10 [06:01<01:32, 46.29s/it]\u001b[A\n",
      "cross-validation:  90%|█████████ | 9/10 [06:39<00:43, 43.68s/it]\u001b[A\n",
      "cross-validation: 100%|██████████| 10/10 [07:23<00:00, 44.38s/it]\u001b[A\n",
      "layers: 100%|██████████| 2/2 [16:58<00:00, 509.37s/it]\n",
      "activations: 100%|██████████| 3200/3200 [03:07<00:00, 17.07it/s]\n",
      "layer packaging: 100%|██████████| 1/1 [00:00<00:00,  5.30it/s]\n",
      "cross-validation: 100%|██████████| 10/10 [23:58<00:00, 143.82s/it]"
     ]
    },
    {
     "name": "stdout",
     "output_type": "stream",
     "text": [
      "<xarray.Score (aggregation: 2)>\n",
      "array([0.48276818, 0.00676272])\n",
      "Coordinates:\n",
      "  * aggregation  (aggregation) <U6 'center' 'error'\n",
      "Attributes:\n",
      "    raw:                   <xarray.Score (aggregation: 2)>\\narray([0.61406253...\n",
      "    ceiling:               <xarray.Score (aggregation: 2)>\\narray([0.88377819...\n",
      "    model_identifier:      alexnet\n",
      "    benchmark_identifier:  dicarlo.MajajHong2015public.V4-pls\n"
     ]
    },
    {
     "name": "stderr",
     "output_type": "stream",
     "text": [
      "\n"
     ]
    }
   ],
   "source": [
    "score = score_model(model_identifier='alexnet', model=commited_model,\n",
    "                    benchmark_identifier='dicarlo.MajajHong2015public.V4-pls')\n",
    "\n",
    "print(score)"
   ]
  },
  {
   "cell_type": "code",
   "execution_count": 6,
   "id": "fdba0e86",
   "metadata": {},
   "outputs": [
    {
     "name": "stderr",
     "output_type": "stream",
     "text": [
      "layers:   0%|          | 0/2 [00:00<?, ?it/s]\n",
      "cross-validation:   0%|          | 0/10 [00:00<?, ?it/s]\u001b[A\n",
      "cross-validation:  10%|█         | 1/10 [00:45<06:50, 45.65s/it]\u001b[A\n",
      "cross-validation:  20%|██        | 2/10 [01:25<05:35, 41.96s/it]\u001b[A\n",
      "cross-validation:  30%|███       | 3/10 [02:02<04:39, 39.97s/it]\u001b[A\n",
      "cross-validation:  40%|████      | 4/10 [02:37<03:47, 37.96s/it]\u001b[A\n",
      "cross-validation:  50%|█████     | 5/10 [03:24<03:26, 41.37s/it]\u001b[A\n",
      "cross-validation:  60%|██████    | 6/10 [04:00<02:37, 39.47s/it]\u001b[A\n",
      "cross-validation:  70%|███████   | 7/10 [04:33<01:51, 37.16s/it]\u001b[A\n",
      "cross-validation:  80%|████████  | 8/10 [05:05<01:11, 35.51s/it]\u001b[A\n",
      "cross-validation:  90%|█████████ | 9/10 [05:47<00:37, 37.71s/it]\u001b[A\n",
      "cross-validation: 100%|██████████| 10/10 [06:27<00:00, 38.76s/it]\u001b[A\n",
      "layers:  50%|█████     | 1/2 [06:35<06:35, 395.42s/it]\n",
      "cross-validation:   0%|          | 0/10 [00:00<?, ?it/s]\u001b[A\n",
      "cross-validation:  10%|█         | 1/10 [00:42<06:22, 42.46s/it]\u001b[A\n",
      "cross-validation:  20%|██        | 2/10 [01:34<06:25, 48.18s/it]\u001b[A\n",
      "cross-validation:  30%|███       | 3/10 [02:32<06:07, 52.52s/it]\u001b[A\n",
      "cross-validation:  40%|████      | 4/10 [03:23<05:11, 51.86s/it]\u001b[A\n",
      "cross-validation:  50%|█████     | 5/10 [04:14<04:17, 51.58s/it]\u001b[A\n",
      "cross-validation:  60%|██████    | 6/10 [05:18<03:42, 55.73s/it]\u001b[A\n",
      "cross-validation:  70%|███████   | 7/10 [06:12<02:46, 55.41s/it]\u001b[A\n",
      "cross-validation:  80%|████████  | 8/10 [07:06<01:49, 54.81s/it]\u001b[A\n",
      "cross-validation:  90%|█████████ | 9/10 [08:18<01:00, 60.17s/it]\u001b[A\n",
      "cross-validation: 100%|██████████| 10/10 [09:17<00:00, 55.78s/it]\u001b[A\n",
      "layers: 100%|██████████| 2/2 [15:53<00:00, 476.78s/it]\n",
      "activations: 100%|██████████| 3200/3200 [03:09<00:00, 16.87it/s]\n",
      "layer packaging: 100%|██████████| 1/1 [00:00<00:00, 14.49it/s]\n",
      "cross-validation: 100%|██████████| 10/10 [22:55<00:00, 137.51s/it]\n"
     ]
    },
    {
     "name": "stdout",
     "output_type": "stream",
     "text": [
      "<xarray.Score (aggregation: 2)>\n",
      "array([0.50478953, 0.00269298])\n",
      "Coordinates:\n",
      "  * aggregation  (aggregation) <U6 'center' 'error'\n",
      "Attributes:\n",
      "    raw:                   <xarray.Score (aggregation: 2)>\\narray([0.57961356...\n",
      "    ceiling:               <xarray.Score (aggregation: 2)>\\narray([0.81579938...\n",
      "    model_identifier:      alexnet\n",
      "    benchmark_identifier:  dicarlo.MajajHong2015public.IT-pls\n"
     ]
    }
   ],
   "source": [
    "score = score_model(model_identifier='alexnet', model=commited_model,\n",
    "                    benchmark_identifier='dicarlo.MajajHong2015public.IT-pls')\n",
    "\n",
    "print(score)"
   ]
  },
  {
   "cell_type": "code",
   "execution_count": null,
   "id": "4f492eb8",
   "metadata": {},
   "outputs": [],
   "source": []
  }
 ],
 "metadata": {
  "kernelspec": {
   "display_name": "Python 3",
   "language": "python",
   "name": "python3"
  },
  "language_info": {
   "codemirror_mode": {
    "name": "ipython",
    "version": 3
   },
   "file_extension": ".py",
   "mimetype": "text/x-python",
   "name": "python",
   "nbconvert_exporter": "python",
   "pygments_lexer": "ipython3",
   "version": "3.8.0"
  }
 },
 "nbformat": 4,
 "nbformat_minor": 5
}
