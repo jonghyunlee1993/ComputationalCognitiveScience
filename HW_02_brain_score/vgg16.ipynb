{
 "cells": [
  {
   "cell_type": "code",
   "execution_count": 1,
   "id": "0144fbf1",
   "metadata": {
    "scrolled": true
   },
   "outputs": [
    {
     "name": "stderr",
     "output_type": "stream",
     "text": [
      "/home/ubuntu/anaconda3/envs/pytorch/lib/python3.8/site-packages/brainscore/metrics/__init__.py:37: FutureWarning: xarray subclass Score should explicitly define __slots__\n",
      "  class Score(DataAssembly):\n"
     ]
    }
   ],
   "source": [
    "import torch \n",
    "import torchvision\n",
    "import functools\n",
    "import numpy as np\n",
    "from torch import nn\n",
    "\n",
    "from brainscore import score_model\n",
    "from brainscore.benchmarks import public_benchmark_pool\n",
    "from model_tools.activations.pytorch import PytorchWrapper\n",
    "from model_tools.activations.pytorch import load_preprocess_images\n",
    "from model_tools.brain_transformation import ModelCommitment\n",
    "from model_tools.check_submission import check_models\n",
    "\n",
    "model = torchvision.models.vgg16(pretrained=True).to(\"cpu\")\n",
    "preprocessing = functools.partial(load_preprocess_images, image_size=224)\n",
    "activations_model = PytorchWrapper(identifier='vgg16', model=model, preprocessing=preprocessing)\n",
    "activations_model.image_size = 224\n"
   ]
  },
  {
   "cell_type": "code",
   "execution_count": 2,
   "id": "52774563",
   "metadata": {
    "scrolled": false
   },
   "outputs": [
    {
     "data": {
      "text/plain": [
       "VGG(\n",
       "  (features): Sequential(\n",
       "    (0): Conv2d(3, 64, kernel_size=(3, 3), stride=(1, 1), padding=(1, 1))\n",
       "    (1): ReLU(inplace=True)\n",
       "    (2): Conv2d(64, 64, kernel_size=(3, 3), stride=(1, 1), padding=(1, 1))\n",
       "    (3): ReLU(inplace=True)\n",
       "    (4): MaxPool2d(kernel_size=2, stride=2, padding=0, dilation=1, ceil_mode=False)\n",
       "    (5): Conv2d(64, 128, kernel_size=(3, 3), stride=(1, 1), padding=(1, 1))\n",
       "    (6): ReLU(inplace=True)\n",
       "    (7): Conv2d(128, 128, kernel_size=(3, 3), stride=(1, 1), padding=(1, 1))\n",
       "    (8): ReLU(inplace=True)\n",
       "    (9): MaxPool2d(kernel_size=2, stride=2, padding=0, dilation=1, ceil_mode=False)\n",
       "    (10): Conv2d(128, 256, kernel_size=(3, 3), stride=(1, 1), padding=(1, 1))\n",
       "    (11): ReLU(inplace=True)\n",
       "    (12): Conv2d(256, 256, kernel_size=(3, 3), stride=(1, 1), padding=(1, 1))\n",
       "    (13): ReLU(inplace=True)\n",
       "    (14): Conv2d(256, 256, kernel_size=(3, 3), stride=(1, 1), padding=(1, 1))\n",
       "    (15): ReLU(inplace=True)\n",
       "    (16): MaxPool2d(kernel_size=2, stride=2, padding=0, dilation=1, ceil_mode=False)\n",
       "    (17): Conv2d(256, 512, kernel_size=(3, 3), stride=(1, 1), padding=(1, 1))\n",
       "    (18): ReLU(inplace=True)\n",
       "    (19): Conv2d(512, 512, kernel_size=(3, 3), stride=(1, 1), padding=(1, 1))\n",
       "    (20): ReLU(inplace=True)\n",
       "    (21): Conv2d(512, 512, kernel_size=(3, 3), stride=(1, 1), padding=(1, 1))\n",
       "    (22): ReLU(inplace=True)\n",
       "    (23): MaxPool2d(kernel_size=2, stride=2, padding=0, dilation=1, ceil_mode=False)\n",
       "    (24): Conv2d(512, 512, kernel_size=(3, 3), stride=(1, 1), padding=(1, 1))\n",
       "    (25): ReLU(inplace=True)\n",
       "    (26): Conv2d(512, 512, kernel_size=(3, 3), stride=(1, 1), padding=(1, 1))\n",
       "    (27): ReLU(inplace=True)\n",
       "    (28): Conv2d(512, 512, kernel_size=(3, 3), stride=(1, 1), padding=(1, 1))\n",
       "    (29): ReLU(inplace=True)\n",
       "    (30): MaxPool2d(kernel_size=2, stride=2, padding=0, dilation=1, ceil_mode=False)\n",
       "  )\n",
       "  (avgpool): AdaptiveAvgPool2d(output_size=(7, 7))\n",
       "  (classifier): Sequential(\n",
       "    (0): Linear(in_features=25088, out_features=4096, bias=True)\n",
       "    (1): ReLU(inplace=True)\n",
       "    (2): Dropout(p=0.5, inplace=False)\n",
       "    (3): Linear(in_features=4096, out_features=4096, bias=True)\n",
       "    (4): ReLU(inplace=True)\n",
       "    (5): Dropout(p=0.5, inplace=False)\n",
       "    (6): Linear(in_features=4096, out_features=1000, bias=True)\n",
       "  )\n",
       ")"
      ]
     },
     "execution_count": 2,
     "metadata": {},
     "output_type": "execute_result"
    }
   ],
   "source": [
    "model"
   ]
  },
  {
   "cell_type": "code",
   "execution_count": 3,
   "id": "cb01cefc",
   "metadata": {
    "scrolled": true
   },
   "outputs": [
    {
     "name": "stderr",
     "output_type": "stream",
     "text": [
      "layers:   0%|          | 0/2 [00:00<?, ?it/s]\n",
      "cross-validation:   0%|          | 0/10 [00:00<?, ?it/s]\u001b[A\n",
      "cross-validation:  10%|█         | 1/10 [00:30<04:30, 30.08s/it]\u001b[A\n",
      "cross-validation:  20%|██        | 2/10 [00:59<03:57, 29.68s/it]\u001b[A\n",
      "cross-validation:  30%|███       | 3/10 [01:33<03:43, 31.88s/it]\u001b[A\n",
      "cross-validation:  40%|████      | 4/10 [02:13<03:28, 34.80s/it]\u001b[A\n",
      "cross-validation:  50%|█████     | 5/10 [02:50<02:59, 35.82s/it]\u001b[A\n",
      "cross-validation:  60%|██████    | 6/10 [03:18<02:12, 33.14s/it]\u001b[A\n",
      "cross-validation:  70%|███████   | 7/10 [03:55<01:43, 34.37s/it]\u001b[A\n",
      "cross-validation:  80%|████████  | 8/10 [04:34<01:11, 35.84s/it]\u001b[A\n",
      "cross-validation:  90%|█████████ | 9/10 [05:11<00:36, 36.26s/it]\u001b[A\n",
      "cross-validation: 100%|██████████| 10/10 [05:43<00:00, 34.35s/it]\u001b[A\n",
      "layers:  50%|█████     | 1/2 [05:43<05:43, 343.60s/it]\n",
      "cross-validation:   0%|          | 0/10 [00:00<?, ?it/s]\u001b[A\n",
      "cross-validation:  10%|█         | 1/10 [00:21<03:13, 21.47s/it]\u001b[A\n",
      "cross-validation:  20%|██        | 2/10 [00:46<03:06, 23.28s/it]\u001b[A\n",
      "cross-validation:  30%|███       | 3/10 [01:07<02:37, 22.51s/it]\u001b[A\n",
      "cross-validation:  40%|████      | 4/10 [01:27<02:09, 21.55s/it]\u001b[A\n",
      "cross-validation:  50%|█████     | 5/10 [01:48<01:47, 21.41s/it]\u001b[A\n",
      "cross-validation:  60%|██████    | 6/10 [02:11<01:27, 21.91s/it]\u001b[A\n",
      "cross-validation:  70%|███████   | 7/10 [02:36<01:08, 22.91s/it]\u001b[A\n",
      "cross-validation:  80%|████████  | 8/10 [03:01<00:46, 23.38s/it]\u001b[A\n",
      "cross-validation:  90%|█████████ | 9/10 [03:24<00:23, 23.25s/it]\u001b[A\n",
      "cross-validation: 100%|██████████| 10/10 [03:49<00:00, 22.91s/it]\u001b[A\n",
      "layers: 100%|██████████| 2/2 [09:32<00:00, 286.42s/it]\n",
      "activations: 100%|██████████| 192/192 [00:12<00:00, 15.00it/s]\n",
      "layer packaging: 100%|██████████| 1/1 [00:03<00:00,  3.06s/it]\n",
      "cross-validation: 100%|██████████| 10/10 [24:37<00:00, 147.75s/it]"
     ]
    },
    {
     "name": "stdout",
     "output_type": "stream",
     "text": [
      "<xarray.Score (aggregation: 2)>\n",
      "array([0.1545702 , 0.01466148])\n",
      "Coordinates:\n",
      "  * aggregation  (aggregation) <U6 'center' 'error'\n",
      "Attributes:\n",
      "    raw:                   <xarray.Score (aggregation: 2)>\\narray([0.34627535...\n",
      "    ceiling:               <xarray.Score (aggregation: 2)>\\narray([0.88076227...\n",
      "    model_identifier:      vgg16\n",
      "    benchmark_identifier:  movshon.FreemanZiemba2013public.V1-pls\n"
     ]
    },
    {
     "name": "stderr",
     "output_type": "stream",
     "text": [
      "\n"
     ]
    }
   ],
   "source": [
    "commited_model = ModelCommitment(identifier='vgg16', activations_model=activations_model,\n",
    "                                 layers=['features.4', 'features.30'])\n",
    "\n",
    "score = score_model(model_identifier='vgg16', model=commited_model,\n",
    "                    benchmark_identifier='movshon.FreemanZiemba2013public.V1-pls')\n",
    "\n",
    "print(score)"
   ]
  },
  {
   "cell_type": "code",
   "execution_count": 4,
   "id": "c846c5f3",
   "metadata": {},
   "outputs": [
    {
     "name": "stderr",
     "output_type": "stream",
     "text": [
      "layers:   0%|          | 0/2 [00:00<?, ?it/s]\n",
      "cross-validation:   0%|          | 0/10 [00:00<?, ?it/s]\u001b[A\n",
      "cross-validation:  10%|█         | 1/10 [00:29<04:24, 29.41s/it]\u001b[A\n",
      "cross-validation:  20%|██        | 2/10 [01:13<05:06, 38.29s/it]\u001b[A\n",
      "cross-validation:  30%|███       | 3/10 [01:51<04:26, 38.01s/it]\u001b[A\n",
      "cross-validation:  40%|████      | 4/10 [02:33<03:57, 39.61s/it]\u001b[A\n",
      "cross-validation:  50%|█████     | 5/10 [03:04<03:02, 36.41s/it]\u001b[A\n",
      "cross-validation:  60%|██████    | 6/10 [03:43<02:29, 37.27s/it]\u001b[A\n",
      "cross-validation:  70%|███████   | 7/10 [04:28<01:59, 39.89s/it]\u001b[A\n",
      "cross-validation:  80%|████████  | 8/10 [05:08<01:19, 40.00s/it]\u001b[A\n",
      "cross-validation:  90%|█████████ | 9/10 [05:52<00:41, 41.04s/it]\u001b[A\n",
      "cross-validation: 100%|██████████| 10/10 [06:49<00:00, 40.96s/it]\u001b[A\n",
      "layers:  50%|█████     | 1/2 [06:49<06:49, 409.75s/it]\n",
      "cross-validation:   0%|          | 0/10 [00:00<?, ?it/s]\u001b[A\n",
      "cross-validation:  10%|█         | 1/10 [00:28<04:19, 28.89s/it]\u001b[A\n",
      "cross-validation:  20%|██        | 2/10 [00:57<03:48, 28.50s/it]\u001b[A\n",
      "cross-validation:  30%|███       | 3/10 [01:25<03:18, 28.42s/it]\u001b[A\n",
      "cross-validation:  40%|████      | 4/10 [01:50<02:43, 27.26s/it]\u001b[A\n",
      "cross-validation:  50%|█████     | 5/10 [02:17<02:14, 26.99s/it]\u001b[A\n",
      "cross-validation:  60%|██████    | 6/10 [02:45<01:48, 27.18s/it]\u001b[A\n",
      "cross-validation:  70%|███████   | 7/10 [03:11<01:21, 27.09s/it]\u001b[A\n",
      "cross-validation:  80%|████████  | 8/10 [03:35<00:52, 26.13s/it]\u001b[A\n",
      "cross-validation:  90%|█████████ | 9/10 [04:05<00:27, 27.10s/it]\u001b[A\n",
      "cross-validation: 100%|██████████| 10/10 [04:34<00:00, 27.49s/it]\u001b[A\n",
      "layers: 100%|██████████| 2/2 [11:24<00:00, 342.39s/it]\n",
      "activations: 100%|██████████| 192/192 [00:12<00:00, 15.09it/s]\n",
      "layer packaging: 100%|██████████| 1/1 [00:00<00:00, 10.32it/s]\n",
      "cross-validation: 100%|██████████| 10/10 [11:06<00:00, 66.62s/it]"
     ]
    },
    {
     "name": "stdout",
     "output_type": "stream",
     "text": [
      "<xarray.Score (aggregation: 2)>\n",
      "array([0.26004136, 0.0099232 ])\n",
      "Coordinates:\n",
      "  * aggregation  (aggregation) <U6 'center' 'error'\n",
      "Attributes:\n",
      "    raw:                   <xarray.Score (aggregation: 2)>\\narray([0.41758381...\n",
      "    ceiling:               <xarray.Score (aggregation: 2)>\\narray([0.8188841 ...\n",
      "    model_identifier:      vgg16\n",
      "    benchmark_identifier:  movshon.FreemanZiemba2013public.V2-pls\n"
     ]
    },
    {
     "name": "stderr",
     "output_type": "stream",
     "text": [
      "\n"
     ]
    }
   ],
   "source": [
    "score = score_model(model_identifier='vgg16', model=commited_model,\n",
    "                    benchmark_identifier='movshon.FreemanZiemba2013public.V2-pls')\n",
    "\n",
    "print(score)"
   ]
  },
  {
   "cell_type": "code",
   "execution_count": 5,
   "id": "f8549d7d",
   "metadata": {},
   "outputs": [
    {
     "name": "stdout",
     "output_type": "stream",
     "text": [
      "Loading lookup from entrypoints\n",
      "Loading lookup from /home/ubuntu/anaconda3/envs/pytorch/lib/python3.8/site-packages/brainscore/lookup.csv\n"
     ]
    },
    {
     "name": "stderr",
     "output_type": "stream",
     "text": [
      "layers:   0%|          | 0/2 [00:00<?, ?it/s]\n",
      "activations:   0%|          | 0/3200 [00:00<?, ?it/s]\u001b[A\n",
      "activations:   2%|▏         | 64/3200 [00:07<06:04,  8.61it/s]\u001b[A\n",
      "activations:   4%|▍         | 128/3200 [00:12<04:46, 10.72it/s]\u001b[A\n",
      "activations:   6%|▌         | 192/3200 [00:16<04:07, 12.13it/s]\u001b[A\n",
      "activations:   8%|▊         | 256/3200 [00:21<03:53, 12.60it/s]\u001b[A\n",
      "activations:  10%|█         | 320/3200 [00:26<03:48, 12.62it/s]\u001b[A\n",
      "activations:  12%|█▏        | 384/3200 [00:30<03:26, 13.67it/s]\u001b[A\n",
      "activations:  14%|█▍        | 448/3200 [00:35<03:17, 13.91it/s]\u001b[A\n",
      "activations:  16%|█▌        | 512/3200 [00:39<03:16, 13.68it/s]\u001b[A\n",
      "activations:  18%|█▊        | 576/3200 [00:44<03:05, 14.14it/s]\u001b[A\n",
      "activations:  20%|██        | 640/3200 [00:48<02:57, 14.41it/s]\u001b[A\n",
      "activations:  22%|██▏       | 704/3200 [00:53<02:59, 13.94it/s]\u001b[A\n",
      "activations:  24%|██▍       | 768/3200 [00:57<02:50, 14.24it/s]\u001b[A\n",
      "activations:  26%|██▌       | 832/3200 [01:01<02:38, 14.91it/s]\u001b[A\n",
      "activations:  28%|██▊       | 896/3200 [01:04<02:25, 15.84it/s]\u001b[A\n",
      "activations:  30%|███       | 960/3200 [01:07<02:12, 16.92it/s]\u001b[A\n",
      "activations:  32%|███▏      | 1024/3200 [01:11<02:10, 16.65it/s]\u001b[A\n",
      "activations:  34%|███▍      | 1088/3200 [01:16<02:12, 15.89it/s]\u001b[A\n",
      "activations:  36%|███▌      | 1152/3200 [01:20<02:12, 15.40it/s]\u001b[A\n",
      "activations:  38%|███▊      | 1216/3200 [01:25<02:13, 14.84it/s]\u001b[A\n",
      "activations:  40%|████      | 1280/3200 [01:30<02:13, 14.38it/s]\u001b[A\n",
      "activations:  42%|████▏     | 1344/3200 [01:35<02:18, 13.42it/s]\u001b[A\n",
      "activations:  44%|████▍     | 1408/3200 [01:40<02:13, 13.45it/s]\u001b[A\n",
      "activations:  46%|████▌     | 1472/3200 [01:45<02:09, 13.39it/s]\u001b[A\n",
      "activations:  48%|████▊     | 1536/3200 [01:50<02:08, 12.97it/s]\u001b[A\n",
      "activations:  50%|█████     | 1600/3200 [01:55<02:03, 12.99it/s]\u001b[A\n",
      "activations:  52%|█████▏    | 1664/3200 [02:00<01:58, 13.00it/s]\u001b[A\n",
      "activations:  54%|█████▍    | 1728/3200 [02:05<01:53, 12.99it/s]\u001b[A\n",
      "activations:  56%|█████▌    | 1792/3200 [02:10<01:48, 12.98it/s]\u001b[A\n",
      "activations:  58%|█████▊    | 1856/3200 [02:15<01:43, 13.04it/s]\u001b[A\n",
      "activations:  60%|██████    | 1920/3200 [02:20<01:38, 12.95it/s]\u001b[A\n",
      "activations:  62%|██████▏   | 1984/3200 [02:25<01:33, 13.00it/s]\u001b[A\n",
      "activations:  64%|██████▍   | 2048/3200 [02:29<01:26, 13.29it/s]\u001b[A\n",
      "activations:  66%|██████▌   | 2112/3200 [02:34<01:22, 13.18it/s]\u001b[A\n",
      "activations:  68%|██████▊   | 2176/3200 [02:39<01:18, 13.02it/s]\u001b[A\n",
      "activations:  70%|███████   | 2240/3200 [02:44<01:13, 13.02it/s]\u001b[A\n",
      "activations:  72%|███████▏  | 2304/3200 [02:49<01:09, 12.88it/s]\u001b[A\n",
      "activations:  74%|███████▍  | 2368/3200 [02:54<01:04, 12.90it/s]\u001b[A\n",
      "activations:  76%|███████▌  | 2432/3200 [02:59<01:00, 12.65it/s]\u001b[A\n",
      "activations:  78%|███████▊  | 2496/3200 [03:04<00:55, 12.73it/s]\u001b[A\n",
      "activations:  80%|████████  | 2560/3200 [03:09<00:49, 12.99it/s]\u001b[A\n",
      "activations:  82%|████████▏ | 2624/3200 [03:14<00:44, 12.92it/s]\u001b[A\n",
      "activations:  84%|████████▍ | 2688/3200 [03:18<00:36, 13.88it/s]\u001b[A\n",
      "activations:  86%|████████▌ | 2752/3200 [03:22<00:31, 14.21it/s]\u001b[A\n",
      "activations:  88%|████████▊ | 2816/3200 [03:27<00:27, 14.14it/s]\u001b[A\n",
      "activations:  90%|█████████ | 2880/3200 [03:31<00:21, 14.64it/s]\u001b[A\n",
      "activations:  92%|█████████▏| 2944/3200 [03:36<00:17, 14.25it/s]\u001b[A\n",
      "activations:  94%|█████████▍| 3008/3200 [03:41<00:14, 13.45it/s]\u001b[A\n",
      "activations:  96%|█████████▌| 3072/3200 [03:46<00:09, 13.59it/s]\u001b[A\n",
      "activations:  98%|█████████▊| 3136/3200 [03:51<00:04, 13.35it/s]\u001b[A\n",
      "activations: 100%|██████████| 3200/3200 [03:55<00:00, 13.58it/s]\u001b[A\n",
      "\n",
      "layer packaging: 100%|██████████| 2/2 [00:00<00:00, 71.40it/s]\n",
      "\n",
      "cross-validation:   0%|          | 0/10 [00:00<?, ?it/s]\u001b[A\n",
      "cross-validation:  10%|█         | 1/10 [00:44<06:41, 44.65s/it]\u001b[A\n",
      "cross-validation:  20%|██        | 2/10 [01:35<06:26, 48.28s/it]\u001b[A\n",
      "cross-validation:  30%|███       | 3/10 [02:13<05:05, 43.65s/it]\u001b[A\n",
      "cross-validation:  40%|████      | 4/10 [02:50<04:06, 41.08s/it]\u001b[A\n",
      "cross-validation:  50%|█████     | 5/10 [03:30<03:23, 40.75s/it]\u001b[A\n",
      "cross-validation:  60%|██████    | 6/10 [04:07<02:37, 39.28s/it]\u001b[A\n",
      "cross-validation:  70%|███████   | 7/10 [05:03<02:14, 44.89s/it]\u001b[A\n",
      "cross-validation:  80%|████████  | 8/10 [05:46<01:28, 44.10s/it]\u001b[A\n",
      "cross-validation:  90%|█████████ | 9/10 [06:13<00:38, 38.85s/it]\u001b[A\n",
      "cross-validation: 100%|██████████| 10/10 [06:38<00:00, 39.89s/it]\u001b[A\n",
      "layers:  50%|█████     | 1/2 [10:40<10:40, 640.89s/it]\n",
      "cross-validation:   0%|          | 0/10 [00:00<?, ?it/s]\u001b[A\n",
      "cross-validation:  10%|█         | 1/10 [00:46<06:55, 46.13s/it]\u001b[A\n",
      "cross-validation:  20%|██        | 2/10 [01:51<07:38, 57.26s/it]\u001b[A\n",
      "cross-validation:  30%|███       | 3/10 [02:49<06:45, 57.91s/it]\u001b[A\n",
      "cross-validation:  40%|████      | 4/10 [03:46<05:44, 57.41s/it]\u001b[A\n",
      "cross-validation:  50%|█████     | 5/10 [04:53<05:03, 60.69s/it]\u001b[A\n",
      "cross-validation:  60%|██████    | 6/10 [05:52<04:01, 60.37s/it]\u001b[A\n",
      "cross-validation:  70%|███████   | 7/10 [06:45<02:53, 57.85s/it]\u001b[A\n",
      "cross-validation:  80%|████████  | 8/10 [07:23<01:43, 51.70s/it]\u001b[A\n",
      "cross-validation:  90%|█████████ | 9/10 [08:28<00:55, 55.77s/it]\u001b[A\n",
      "cross-validation: 100%|██████████| 10/10 [09:39<00:00, 57.90s/it]\u001b[A\n",
      "layers: 100%|██████████| 2/2 [20:20<00:00, 610.18s/it]\n",
      "activations: 100%|██████████| 3200/3200 [08:02<00:00,  6.63it/s]\n",
      "layer packaging: 100%|██████████| 1/1 [00:03<00:00,  3.63s/it]\n",
      "cross-validation: 100%|██████████| 10/10 [3:02:44<00:00, 1096.48s/it] \n"
     ]
    },
    {
     "name": "stdout",
     "output_type": "stream",
     "text": [
      "<xarray.Score (aggregation: 2)>\n",
      "array([0.49132404, 0.00542675])\n",
      "Coordinates:\n",
      "  * aggregation  (aggregation) <U6 'center' 'error'\n",
      "Attributes:\n",
      "    raw:                   <xarray.Score (aggregation: 2)>\\narray([0.61947999...\n",
      "    ceiling:               <xarray.Score (aggregation: 2)>\\narray([0.88377819...\n",
      "    model_identifier:      vgg16\n",
      "    benchmark_identifier:  dicarlo.MajajHong2015public.V4-pls\n"
     ]
    }
   ],
   "source": [
    "score = score_model(model_identifier='vgg16', model=commited_model,\n",
    "                    benchmark_identifier='dicarlo.MajajHong2015public.V4-pls')\n",
    "\n",
    "print(score)"
   ]
  },
  {
   "cell_type": "code",
   "execution_count": 6,
   "id": "19e9948b",
   "metadata": {},
   "outputs": [
    {
     "name": "stderr",
     "output_type": "stream",
     "text": [
      "layers:   0%|          | 0/2 [00:00<?, ?it/s]\n",
      "cross-validation:   0%|          | 0/10 [00:00<?, ?it/s]\u001b[A\n",
      "cross-validation:  10%|█         | 1/10 [00:01<00:16,  1.82s/it]\u001b[A\n",
      "cross-validation:  20%|██        | 2/10 [00:03<00:15,  1.91s/it]\u001b[A\n",
      "cross-validation:  30%|███       | 3/10 [00:05<00:13,  1.86s/it]\u001b[A\n",
      "cross-validation:  40%|████      | 4/10 [00:07<00:10,  1.77s/it]\u001b[A\n",
      "cross-validation:  50%|█████     | 5/10 [00:09<00:09,  1.82s/it]\u001b[A\n",
      "cross-validation:  60%|██████    | 6/10 [00:11<00:07,  1.91s/it]\u001b[A\n",
      "cross-validation:  70%|███████   | 7/10 [00:12<00:05,  1.83s/it]\u001b[A\n",
      "cross-validation:  80%|████████  | 8/10 [00:14<00:03,  1.82s/it]\u001b[A\n",
      "cross-validation:  90%|█████████ | 9/10 [00:16<00:01,  1.74s/it]\u001b[A\n",
      "cross-validation: 100%|██████████| 10/10 [00:17<00:00,  1.80s/it]\u001b[A\n",
      "layers:  50%|█████     | 1/2 [00:24<00:24, 24.77s/it]\n",
      "cross-validation:   0%|          | 0/10 [00:00<?, ?it/s]\u001b[A\n",
      "cross-validation:  10%|█         | 1/10 [00:01<00:16,  1.86s/it]\u001b[A\n",
      "cross-validation:  20%|██        | 2/10 [00:03<00:14,  1.78s/it]\u001b[A\n",
      "cross-validation:  30%|███       | 3/10 [00:05<00:13,  1.88s/it]\u001b[A\n",
      "cross-validation:  40%|████      | 4/10 [00:07<00:11,  1.95s/it]\u001b[A\n",
      "cross-validation:  50%|█████     | 5/10 [00:09<00:09,  1.96s/it]\u001b[A\n",
      "cross-validation:  60%|██████    | 6/10 [00:11<00:07,  1.98s/it]\u001b[A\n",
      "cross-validation:  70%|███████   | 7/10 [00:13<00:05,  1.93s/it]\u001b[A\n",
      "cross-validation:  80%|████████  | 8/10 [00:15<00:03,  1.99s/it]\u001b[A\n",
      "cross-validation:  90%|█████████ | 9/10 [00:17<00:02,  2.03s/it]\u001b[A\n",
      "cross-validation: 100%|██████████| 10/10 [00:19<00:00,  1.95s/it]\u001b[A\n",
      "layers: 100%|██████████| 2/2 [00:44<00:00, 22.30s/it]\n",
      "activations: 100%|██████████| 3200/3200 [00:24<00:00, 133.13it/s]\n",
      "layer packaging: 100%|██████████| 1/1 [00:00<00:00,  9.89it/s]\n",
      "cross-validation: 100%|██████████| 10/10 [06:03<00:00, 36.32s/it]"
     ]
    },
    {
     "name": "stdout",
     "output_type": "stream",
     "text": [
      "<xarray.Score (aggregation: 2)>\n",
      "array([0.51850755, 0.00328962])\n",
      "Coordinates:\n",
      "  * aggregation  (aggregation) <U6 'center' 'error'\n",
      "Attributes:\n",
      "    raw:                   <xarray.Score (aggregation: 2)>\\narray([0.58743648...\n",
      "    ceiling:               <xarray.Score (aggregation: 2)>\\narray([0.81579938...\n",
      "    model_identifier:      vgg16\n",
      "    benchmark_identifier:  dicarlo.MajajHong2015public.IT-pls\n"
     ]
    },
    {
     "name": "stderr",
     "output_type": "stream",
     "text": [
      "\n"
     ]
    }
   ],
   "source": [
    "score = score_model(model_identifier='vgg16', model=commited_model,\n",
    "                    benchmark_identifier='dicarlo.MajajHong2015public.IT-pls')\n",
    "\n",
    "print(score)"
   ]
  },
  {
   "cell_type": "code",
   "execution_count": null,
   "id": "1820aab7",
   "metadata": {},
   "outputs": [],
   "source": []
  }
 ],
 "metadata": {
  "kernelspec": {
   "display_name": "Python 3",
   "language": "python",
   "name": "python3"
  },
  "language_info": {
   "codemirror_mode": {
    "name": "ipython",
    "version": 3
   },
   "file_extension": ".py",
   "mimetype": "text/x-python",
   "name": "python",
   "nbconvert_exporter": "python",
   "pygments_lexer": "ipython3",
   "version": "3.8.0"
  }
 },
 "nbformat": 4,
 "nbformat_minor": 5
}
