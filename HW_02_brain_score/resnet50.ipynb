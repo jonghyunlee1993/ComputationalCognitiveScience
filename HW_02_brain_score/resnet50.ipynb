{
 "cells": [
  {
   "cell_type": "code",
   "execution_count": 1,
   "id": "0144fbf1",
   "metadata": {
    "scrolled": true
   },
   "outputs": [
    {
     "name": "stderr",
     "output_type": "stream",
     "text": [
      "/home/ubuntu/anaconda3/envs/pytorch/lib/python3.8/site-packages/brainscore/metrics/__init__.py:37: FutureWarning: xarray subclass Score should explicitly define __slots__\n",
      "  class Score(DataAssembly):\n"
     ]
    }
   ],
   "source": [
    "import torch \n",
    "import torchvision\n",
    "import functools\n",
    "import numpy as np\n",
    "from torch import nn\n",
    "\n",
    "from brainscore import score_model\n",
    "from brainscore.benchmarks import public_benchmark_pool\n",
    "from model_tools.activations.pytorch import PytorchWrapper\n",
    "from model_tools.activations.pytorch import load_preprocess_images\n",
    "from model_tools.brain_transformation import ModelCommitment\n",
    "from model_tools.check_submission import check_models\n",
    "\n",
    "model = torchvision.models.resnet18(pretrained=True).to('cpu')\n",
    "preprocessing = functools.partial(load_preprocess_images, image_size=224)\n",
    "activations_model = PytorchWrapper(identifier='resnet50', model=model, preprocessing=preprocessing)\n",
    "activations_model.image_size = 224\n"
   ]
  },
  {
   "cell_type": "code",
   "execution_count": 2,
   "id": "52774563",
   "metadata": {
    "scrolled": false
   },
   "outputs": [
    {
     "data": {
      "text/plain": [
       "ResNet(\n",
       "  (conv1): Conv2d(3, 64, kernel_size=(7, 7), stride=(2, 2), padding=(3, 3), bias=False)\n",
       "  (bn1): BatchNorm2d(64, eps=1e-05, momentum=0.1, affine=True, track_running_stats=True)\n",
       "  (relu): ReLU(inplace=True)\n",
       "  (maxpool): MaxPool2d(kernel_size=3, stride=2, padding=1, dilation=1, ceil_mode=False)\n",
       "  (layer1): Sequential(\n",
       "    (0): BasicBlock(\n",
       "      (conv1): Conv2d(64, 64, kernel_size=(3, 3), stride=(1, 1), padding=(1, 1), bias=False)\n",
       "      (bn1): BatchNorm2d(64, eps=1e-05, momentum=0.1, affine=True, track_running_stats=True)\n",
       "      (relu): ReLU(inplace=True)\n",
       "      (conv2): Conv2d(64, 64, kernel_size=(3, 3), stride=(1, 1), padding=(1, 1), bias=False)\n",
       "      (bn2): BatchNorm2d(64, eps=1e-05, momentum=0.1, affine=True, track_running_stats=True)\n",
       "    )\n",
       "    (1): BasicBlock(\n",
       "      (conv1): Conv2d(64, 64, kernel_size=(3, 3), stride=(1, 1), padding=(1, 1), bias=False)\n",
       "      (bn1): BatchNorm2d(64, eps=1e-05, momentum=0.1, affine=True, track_running_stats=True)\n",
       "      (relu): ReLU(inplace=True)\n",
       "      (conv2): Conv2d(64, 64, kernel_size=(3, 3), stride=(1, 1), padding=(1, 1), bias=False)\n",
       "      (bn2): BatchNorm2d(64, eps=1e-05, momentum=0.1, affine=True, track_running_stats=True)\n",
       "    )\n",
       "  )\n",
       "  (layer2): Sequential(\n",
       "    (0): BasicBlock(\n",
       "      (conv1): Conv2d(64, 128, kernel_size=(3, 3), stride=(2, 2), padding=(1, 1), bias=False)\n",
       "      (bn1): BatchNorm2d(128, eps=1e-05, momentum=0.1, affine=True, track_running_stats=True)\n",
       "      (relu): ReLU(inplace=True)\n",
       "      (conv2): Conv2d(128, 128, kernel_size=(3, 3), stride=(1, 1), padding=(1, 1), bias=False)\n",
       "      (bn2): BatchNorm2d(128, eps=1e-05, momentum=0.1, affine=True, track_running_stats=True)\n",
       "      (downsample): Sequential(\n",
       "        (0): Conv2d(64, 128, kernel_size=(1, 1), stride=(2, 2), bias=False)\n",
       "        (1): BatchNorm2d(128, eps=1e-05, momentum=0.1, affine=True, track_running_stats=True)\n",
       "      )\n",
       "    )\n",
       "    (1): BasicBlock(\n",
       "      (conv1): Conv2d(128, 128, kernel_size=(3, 3), stride=(1, 1), padding=(1, 1), bias=False)\n",
       "      (bn1): BatchNorm2d(128, eps=1e-05, momentum=0.1, affine=True, track_running_stats=True)\n",
       "      (relu): ReLU(inplace=True)\n",
       "      (conv2): Conv2d(128, 128, kernel_size=(3, 3), stride=(1, 1), padding=(1, 1), bias=False)\n",
       "      (bn2): BatchNorm2d(128, eps=1e-05, momentum=0.1, affine=True, track_running_stats=True)\n",
       "    )\n",
       "  )\n",
       "  (layer3): Sequential(\n",
       "    (0): BasicBlock(\n",
       "      (conv1): Conv2d(128, 256, kernel_size=(3, 3), stride=(2, 2), padding=(1, 1), bias=False)\n",
       "      (bn1): BatchNorm2d(256, eps=1e-05, momentum=0.1, affine=True, track_running_stats=True)\n",
       "      (relu): ReLU(inplace=True)\n",
       "      (conv2): Conv2d(256, 256, kernel_size=(3, 3), stride=(1, 1), padding=(1, 1), bias=False)\n",
       "      (bn2): BatchNorm2d(256, eps=1e-05, momentum=0.1, affine=True, track_running_stats=True)\n",
       "      (downsample): Sequential(\n",
       "        (0): Conv2d(128, 256, kernel_size=(1, 1), stride=(2, 2), bias=False)\n",
       "        (1): BatchNorm2d(256, eps=1e-05, momentum=0.1, affine=True, track_running_stats=True)\n",
       "      )\n",
       "    )\n",
       "    (1): BasicBlock(\n",
       "      (conv1): Conv2d(256, 256, kernel_size=(3, 3), stride=(1, 1), padding=(1, 1), bias=False)\n",
       "      (bn1): BatchNorm2d(256, eps=1e-05, momentum=0.1, affine=True, track_running_stats=True)\n",
       "      (relu): ReLU(inplace=True)\n",
       "      (conv2): Conv2d(256, 256, kernel_size=(3, 3), stride=(1, 1), padding=(1, 1), bias=False)\n",
       "      (bn2): BatchNorm2d(256, eps=1e-05, momentum=0.1, affine=True, track_running_stats=True)\n",
       "    )\n",
       "  )\n",
       "  (layer4): Sequential(\n",
       "    (0): BasicBlock(\n",
       "      (conv1): Conv2d(256, 512, kernel_size=(3, 3), stride=(2, 2), padding=(1, 1), bias=False)\n",
       "      (bn1): BatchNorm2d(512, eps=1e-05, momentum=0.1, affine=True, track_running_stats=True)\n",
       "      (relu): ReLU(inplace=True)\n",
       "      (conv2): Conv2d(512, 512, kernel_size=(3, 3), stride=(1, 1), padding=(1, 1), bias=False)\n",
       "      (bn2): BatchNorm2d(512, eps=1e-05, momentum=0.1, affine=True, track_running_stats=True)\n",
       "      (downsample): Sequential(\n",
       "        (0): Conv2d(256, 512, kernel_size=(1, 1), stride=(2, 2), bias=False)\n",
       "        (1): BatchNorm2d(512, eps=1e-05, momentum=0.1, affine=True, track_running_stats=True)\n",
       "      )\n",
       "    )\n",
       "    (1): BasicBlock(\n",
       "      (conv1): Conv2d(512, 512, kernel_size=(3, 3), stride=(1, 1), padding=(1, 1), bias=False)\n",
       "      (bn1): BatchNorm2d(512, eps=1e-05, momentum=0.1, affine=True, track_running_stats=True)\n",
       "      (relu): ReLU(inplace=True)\n",
       "      (conv2): Conv2d(512, 512, kernel_size=(3, 3), stride=(1, 1), padding=(1, 1), bias=False)\n",
       "      (bn2): BatchNorm2d(512, eps=1e-05, momentum=0.1, affine=True, track_running_stats=True)\n",
       "    )\n",
       "  )\n",
       "  (avgpool): AdaptiveAvgPool2d(output_size=(1, 1))\n",
       "  (fc): Linear(in_features=512, out_features=1000, bias=True)\n",
       ")"
      ]
     },
     "execution_count": 2,
     "metadata": {},
     "output_type": "execute_result"
    }
   ],
   "source": [
    "model"
   ]
  },
  {
   "cell_type": "code",
   "execution_count": 3,
   "id": "cb01cefc",
   "metadata": {},
   "outputs": [
    {
     "name": "stderr",
     "output_type": "stream",
     "text": [
      "layers:   0%|          | 0/2 [00:00<?, ?it/s]\n",
      "cross-validation:   0%|          | 0/10 [00:00<?, ?it/s]\u001b[A\n",
      "cross-validation:  10%|█         | 1/10 [00:38<05:46, 38.48s/it]\u001b[A\n",
      "cross-validation:  20%|██        | 2/10 [01:15<04:59, 37.46s/it]\u001b[A\n",
      "cross-validation:  30%|███       | 3/10 [01:48<04:07, 35.33s/it]\u001b[A\n",
      "cross-validation:  40%|████      | 4/10 [02:27<03:41, 36.97s/it]\u001b[A\n",
      "cross-validation:  50%|█████     | 5/10 [03:04<03:04, 36.89s/it]\u001b[A\n",
      "cross-validation:  60%|██████    | 6/10 [03:40<02:26, 36.63s/it]\u001b[A\n",
      "cross-validation:  70%|███████   | 7/10 [04:08<01:41, 33.90s/it]\u001b[A\n",
      "cross-validation:  80%|████████  | 8/10 [04:42<01:07, 33.77s/it]\u001b[A\n",
      "cross-validation:  90%|█████████ | 9/10 [05:17<00:34, 34.18s/it]\u001b[A\n",
      "cross-validation: 100%|██████████| 10/10 [05:51<00:00, 35.13s/it]\u001b[A\n",
      "layers:  50%|█████     | 1/2 [05:51<05:51, 351.49s/it]\n",
      "cross-validation:   0%|          | 0/10 [00:00<?, ?it/s]\u001b[A\n",
      "cross-validation:  10%|█         | 1/10 [00:19<02:58, 19.80s/it]\u001b[A\n",
      "cross-validation:  20%|██        | 2/10 [00:40<02:42, 20.37s/it]\u001b[A\n",
      "cross-validation:  30%|███       | 3/10 [00:59<02:18, 19.83s/it]\u001b[A\n",
      "cross-validation:  40%|████      | 4/10 [01:23<02:08, 21.48s/it]\u001b[A\n",
      "cross-validation:  50%|█████     | 5/10 [01:42<01:42, 20.56s/it]\u001b[A\n",
      "cross-validation:  60%|██████    | 6/10 [02:05<01:25, 21.41s/it]\u001b[A\n",
      "cross-validation:  70%|███████   | 7/10 [02:27<01:04, 21.44s/it]\u001b[A\n",
      "cross-validation:  80%|████████  | 8/10 [02:48<00:42, 21.29s/it]\u001b[A\n",
      "cross-validation:  90%|█████████ | 9/10 [03:11<00:21, 21.93s/it]\u001b[A\n",
      "cross-validation: 100%|██████████| 10/10 [03:33<00:00, 21.35s/it]\u001b[A\n",
      "layers: 100%|██████████| 2/2 [09:25<00:00, 282.55s/it]\n",
      "activations: 100%|██████████| 192/192 [00:11<00:00, 16.00it/s]\n",
      "layer packaging: 100%|██████████| 1/1 [00:00<00:00,  1.35it/s]\n",
      "cross-validation:  20%|██        | 2/10 [03:25<13:30, 101.36s/it]/home/ubuntu/anaconda3/envs/pytorch/lib/python3.8/site-packages/sklearn/cross_decomposition/_pls.py:96: ConvergenceWarning: Maximum number of iterations reached\n",
      "  warnings.warn('Maximum number of iterations reached',\n",
      "cross-validation: 100%|██████████| 10/10 [16:47<00:00, 100.70s/it]"
     ]
    },
    {
     "name": "stdout",
     "output_type": "stream",
     "text": [
      "<xarray.Score (aggregation: 2)>\n",
      "array([0.14121484, 0.0155345 ])\n",
      "Coordinates:\n",
      "  * aggregation  (aggregation) <U6 'center' 'error'\n",
      "Attributes:\n",
      "    raw:                   <xarray.Score (aggregation: 2)>\\narray([0.33097781...\n",
      "    ceiling:               <xarray.Score (aggregation: 2)>\\narray([0.88076227...\n",
      "    model_identifier:      resnet50\n",
      "    benchmark_identifier:  movshon.FreemanZiemba2013public.V1-pls\n"
     ]
    },
    {
     "name": "stderr",
     "output_type": "stream",
     "text": [
      "\n"
     ]
    }
   ],
   "source": [
    "commited_model = ModelCommitment(identifier='resnet50', activations_model=activations_model,\n",
    "                                 layers=['layer1.1.bn2', 'layer4.1.bn2'])\n",
    "\n",
    "score = score_model(model_identifier='resnet50', model=commited_model,\n",
    "                    benchmark_identifier='movshon.FreemanZiemba2013public.V1-pls')\n",
    "\n",
    "print(score)"
   ]
  },
  {
   "cell_type": "code",
   "execution_count": 4,
   "id": "c846c5f3",
   "metadata": {},
   "outputs": [
    {
     "name": "stderr",
     "output_type": "stream",
     "text": [
      "layers:   0%|          | 0/2 [00:00<?, ?it/s]\n",
      "cross-validation:   0%|          | 0/10 [00:00<?, ?it/s]\u001b[A\n",
      "cross-validation:  10%|█         | 1/10 [00:44<06:41, 44.63s/it]\u001b[A\n",
      "cross-validation:  20%|██        | 2/10 [01:22<05:23, 40.49s/it]\u001b[A\n",
      "cross-validation:  30%|███       | 3/10 [01:59<04:31, 38.84s/it]\u001b[A\n",
      "cross-validation:  40%|████      | 4/10 [02:34<03:45, 37.54s/it]\u001b[A\n",
      "cross-validation:  50%|█████     | 5/10 [03:14<03:11, 38.36s/it]\u001b[A\n",
      "cross-validation:  60%|██████    | 6/10 [03:58<02:40, 40.19s/it]\u001b[A\n",
      "cross-validation:  70%|███████   | 7/10 [04:39<02:01, 40.55s/it]\u001b[A\n",
      "cross-validation:  80%|████████  | 8/10 [05:20<01:21, 40.59s/it]\u001b[A\n",
      "cross-validation:  90%|█████████ | 9/10 [06:08<00:43, 43.09s/it]\u001b[A\n",
      "cross-validation: 100%|██████████| 10/10 [06:46<00:00, 40.62s/it]\u001b[A\n",
      "layers:  50%|█████     | 1/2 [06:46<06:46, 406.32s/it]\n",
      "cross-validation:   0%|          | 0/10 [00:00<?, ?it/s]\u001b[A\n",
      "cross-validation:  10%|█         | 1/10 [00:25<03:48, 25.42s/it]\u001b[A\n",
      "cross-validation:  20%|██        | 2/10 [00:51<03:27, 25.94s/it]\u001b[A\n",
      "cross-validation:  30%|███       | 3/10 [01:17<02:59, 25.68s/it]\u001b[A\n",
      "cross-validation:  40%|████      | 4/10 [01:43<02:36, 26.02s/it]\u001b[A\n",
      "cross-validation:  50%|█████     | 5/10 [02:02<01:57, 23.50s/it]\u001b[A\n",
      "cross-validation:  60%|██████    | 6/10 [02:21<01:27, 21.95s/it]\u001b[A\n",
      "cross-validation:  70%|███████   | 7/10 [02:48<01:10, 23.59s/it]\u001b[A\n",
      "cross-validation:  80%|████████  | 8/10 [03:09<00:45, 22.60s/it]\u001b[A\n",
      "cross-validation:  90%|█████████ | 9/10 [03:32<00:22, 22.92s/it]\u001b[A\n",
      "cross-validation: 100%|██████████| 10/10 [03:54<00:00, 23.42s/it]\u001b[A\n",
      "layers: 100%|██████████| 2/2 [10:40<00:00, 320.32s/it]\n",
      "activations: 100%|██████████| 192/192 [00:09<00:00, 21.24it/s]\n",
      "layer packaging: 100%|██████████| 1/1 [00:00<00:00, 10.54it/s]\n",
      "cross-validation: 100%|██████████| 10/10 [08:08<00:00, 48.88s/it]"
     ]
    },
    {
     "name": "stdout",
     "output_type": "stream",
     "text": [
      "<xarray.Score (aggregation: 2)>\n",
      "array([0.24573152, 0.01064551])\n",
      "Coordinates:\n",
      "  * aggregation  (aggregation) <U6 'center' 'error'\n",
      "Attributes:\n",
      "    raw:                   <xarray.Score (aggregation: 2)>\\narray([0.40593161...\n",
      "    ceiling:               <xarray.Score (aggregation: 2)>\\narray([0.8188841 ...\n",
      "    model_identifier:      resnet50\n",
      "    benchmark_identifier:  movshon.FreemanZiemba2013public.V2-pls\n"
     ]
    },
    {
     "name": "stderr",
     "output_type": "stream",
     "text": [
      "\n"
     ]
    }
   ],
   "source": [
    "score = score_model(model_identifier='resnet50', model=commited_model,\n",
    "                    benchmark_identifier='movshon.FreemanZiemba2013public.V2-pls')\n",
    "\n",
    "print(score)"
   ]
  },
  {
   "cell_type": "code",
   "execution_count": 5,
   "id": "bceb7e8f",
   "metadata": {},
   "outputs": [
    {
     "name": "stdout",
     "output_type": "stream",
     "text": [
      "Loading lookup from entrypoints\n",
      "Loading lookup from /home/ubuntu/anaconda3/envs/pytorch/lib/python3.8/site-packages/brainscore/lookup.csv\n"
     ]
    },
    {
     "name": "stderr",
     "output_type": "stream",
     "text": [
      "layers:   0%|          | 0/2 [00:00<?, ?it/s]\n",
      "activations:   0%|          | 0/3200 [00:00<?, ?it/s]\u001b[A\n",
      "activations:   2%|▏         | 64/3200 [00:04<03:50, 13.59it/s]\u001b[A\n",
      "activations:   4%|▍         | 128/3200 [00:08<03:19, 15.42it/s]\u001b[A\n",
      "activations:   6%|▌         | 192/3200 [00:11<03:01, 16.60it/s]\u001b[A\n",
      "activations:   8%|▊         | 256/3200 [00:15<02:44, 17.89it/s]\u001b[A\n",
      "activations:  10%|█         | 320/3200 [00:18<02:42, 17.75it/s]\u001b[A\n",
      "activations:  12%|█▏        | 384/3200 [00:22<02:34, 18.24it/s]\u001b[A\n",
      "activations:  14%|█▍        | 448/3200 [00:25<02:28, 18.48it/s]\u001b[A\n",
      "activations:  16%|█▌        | 512/3200 [00:29<02:33, 17.47it/s]\u001b[A\n",
      "activations:  18%|█▊        | 576/3200 [00:33<02:37, 16.69it/s]\u001b[A\n",
      "activations:  20%|██        | 640/3200 [00:37<02:31, 16.85it/s]\u001b[A\n",
      "activations:  22%|██▏       | 704/3200 [00:40<02:22, 17.52it/s]\u001b[A\n",
      "activations:  24%|██▍       | 768/3200 [00:43<02:13, 18.26it/s]\u001b[A\n",
      "activations:  26%|██▌       | 832/3200 [00:47<02:06, 18.65it/s]\u001b[A\n",
      "activations:  28%|██▊       | 896/3200 [00:50<02:00, 19.19it/s]\u001b[A\n",
      "activations:  30%|███       | 960/3200 [00:53<01:55, 19.37it/s]\u001b[A\n",
      "activations:  32%|███▏      | 1024/3200 [00:56<01:50, 19.75it/s]\u001b[A\n",
      "activations:  34%|███▍      | 1088/3200 [00:59<01:45, 20.03it/s]\u001b[A\n",
      "activations:  36%|███▌      | 1152/3200 [01:03<01:46, 19.30it/s]\u001b[A\n",
      "activations:  38%|███▊      | 1216/3200 [01:07<01:47, 18.38it/s]\u001b[A\n",
      "activations:  40%|████      | 1280/3200 [01:10<01:46, 18.09it/s]\u001b[A\n",
      "activations:  42%|████▏     | 1344/3200 [01:14<01:45, 17.64it/s]\u001b[A\n",
      "activations:  44%|████▍     | 1408/3200 [01:18<01:43, 17.27it/s]\u001b[A\n",
      "activations:  46%|████▌     | 1472/3200 [01:22<01:41, 17.02it/s]\u001b[A\n",
      "activations:  48%|████▊     | 1536/3200 [01:26<01:38, 16.88it/s]\u001b[A\n",
      "activations:  50%|█████     | 1600/3200 [01:30<01:35, 16.75it/s]\u001b[A\n",
      "activations:  52%|█████▏    | 1664/3200 [01:34<01:32, 16.59it/s]\u001b[A\n",
      "activations:  54%|█████▍    | 1728/3200 [01:38<01:29, 16.49it/s]\u001b[A\n",
      "activations:  56%|█████▌    | 1792/3200 [01:40<01:16, 18.32it/s]\u001b[A\n",
      "activations:  58%|█████▊    | 1856/3200 [01:43<01:06, 20.17it/s]\u001b[A\n",
      "activations:  60%|██████    | 1920/3200 [01:45<00:59, 21.50it/s]\u001b[A\n",
      "activations:  62%|██████▏   | 1984/3200 [01:48<00:53, 22.67it/s]\u001b[A\n",
      "activations:  64%|██████▍   | 2048/3200 [01:50<00:48, 23.59it/s]\u001b[A\n",
      "activations:  66%|██████▌   | 2112/3200 [01:53<00:44, 24.25it/s]\u001b[A\n",
      "activations:  68%|██████▊   | 2176/3200 [01:55<00:41, 24.70it/s]\u001b[A\n",
      "activations:  70%|███████   | 2240/3200 [01:58<00:38, 24.92it/s]\u001b[A\n",
      "activations:  72%|███████▏  | 2304/3200 [02:00<00:35, 25.42it/s]\u001b[A\n",
      "activations:  74%|███████▍  | 2368/3200 [02:02<00:32, 25.41it/s]\u001b[A\n",
      "activations:  76%|███████▌  | 2432/3200 [02:05<00:30, 25.33it/s]\u001b[A\n",
      "activations:  78%|███████▊  | 2496/3200 [02:07<00:27, 25.57it/s]\u001b[A\n",
      "activations:  80%|████████  | 2560/3200 [02:10<00:24, 25.70it/s]\u001b[A\n",
      "activations:  82%|████████▏ | 2624/3200 [02:12<00:22, 25.82it/s]\u001b[A\n",
      "activations:  84%|████████▍ | 2688/3200 [02:15<00:20, 25.59it/s]\u001b[A\n",
      "activations:  86%|████████▌ | 2752/3200 [02:17<00:17, 25.51it/s]\u001b[A\n",
      "activations:  88%|████████▊ | 2816/3200 [02:20<00:15, 25.57it/s]\u001b[A\n",
      "activations:  90%|█████████ | 2880/3200 [02:22<00:12, 25.74it/s]\u001b[A\n",
      "activations:  92%|█████████▏| 2944/3200 [02:25<00:10, 25.50it/s]\u001b[A\n",
      "activations:  94%|█████████▍| 3008/3200 [02:27<00:07, 25.49it/s]\u001b[A\n",
      "activations:  96%|█████████▌| 3072/3200 [02:30<00:05, 25.54it/s]\u001b[A\n",
      "activations:  98%|█████████▊| 3136/3200 [02:33<00:02, 25.41it/s]\u001b[A\n",
      "activations: 100%|██████████| 3200/3200 [02:35<00:00, 20.57it/s]\u001b[A\n",
      "\n",
      "layer packaging: 100%|██████████| 2/2 [00:00<00:00, 87.41it/s]\n",
      "\n",
      "cross-validation:   0%|          | 0/10 [00:00<?, ?it/s]\u001b[A\n",
      "cross-validation:  10%|█         | 1/10 [00:38<05:46, 38.53s/it]\u001b[A\n",
      "cross-validation:  20%|██        | 2/10 [01:22<05:34, 41.79s/it]\u001b[A\n",
      "cross-validation:  30%|███       | 3/10 [02:15<05:26, 46.67s/it]\u001b[A\n",
      "cross-validation:  40%|████      | 4/10 [03:01<04:40, 46.76s/it]\u001b[A\n",
      "cross-validation:  50%|█████     | 5/10 [03:43<03:43, 44.74s/it]\u001b[A\n",
      "cross-validation:  60%|██████    | 6/10 [04:22<02:51, 42.86s/it]\u001b[A\n",
      "cross-validation:  70%|███████   | 7/10 [05:07<02:10, 43.66s/it]\u001b[A\n",
      "cross-validation:  80%|████████  | 8/10 [05:49<01:26, 43.11s/it]\u001b[A\n",
      "cross-validation:  90%|█████████ | 9/10 [06:34<00:43, 43.79s/it]\u001b[A\n",
      "cross-validation: 100%|██████████| 10/10 [07:16<00:00, 43.63s/it]\u001b[A\n",
      "layers:  50%|█████     | 1/2 [09:57<09:57, 597.95s/it]\n",
      "cross-validation:   0%|          | 0/10 [00:00<?, ?it/s]\u001b[A\n",
      "cross-validation:  10%|█         | 1/10 [00:46<06:59, 46.64s/it]\u001b[A\n",
      "cross-validation:  20%|██        | 2/10 [01:27<05:47, 43.41s/it]\u001b[A\n",
      "cross-validation:  30%|███       | 3/10 [02:10<05:01, 43.10s/it]\u001b[A\n",
      "cross-validation:  40%|████      | 4/10 [02:50<04:10, 41.67s/it]\u001b[A\n",
      "cross-validation:  50%|█████     | 5/10 [03:28<03:22, 40.53s/it]\u001b[A\n",
      "cross-validation:  60%|██████    | 6/10 [04:23<03:02, 45.52s/it]\u001b[A\n",
      "cross-validation:  70%|███████   | 7/10 [05:21<02:28, 49.41s/it]\u001b[A\n",
      "cross-validation:  80%|████████  | 8/10 [06:06<01:36, 48.17s/it]\u001b[A\n",
      "cross-validation:  90%|█████████ | 9/10 [06:47<00:45, 45.93s/it]\u001b[A\n",
      "cross-validation: 100%|██████████| 10/10 [07:37<00:00, 45.70s/it]\u001b[A\n",
      "layers: 100%|██████████| 2/2 [17:35<00:00, 527.67s/it]\n",
      "activations: 100%|██████████| 3200/3200 [04:19<00:00, 12.31it/s]\n",
      "layer packaging: 100%|██████████| 1/1 [00:00<00:00,  1.28it/s]\n",
      "cross-validation: 100%|██████████| 10/10 [1:05:51<00:00, 395.10s/it]\n"
     ]
    },
    {
     "name": "stdout",
     "output_type": "stream",
     "text": [
      "<xarray.Score (aggregation: 2)>\n",
      "array([0.48851486, 0.00500676])\n",
      "Coordinates:\n",
      "  * aggregation  (aggregation) <U6 'center' 'error'\n",
      "Attributes:\n",
      "    raw:                   <xarray.Score (aggregation: 2)>\\narray([0.6177065 ...\n",
      "    ceiling:               <xarray.Score (aggregation: 2)>\\narray([0.88377819...\n",
      "    model_identifier:      resnet50\n",
      "    benchmark_identifier:  dicarlo.MajajHong2015public.V4-pls\n"
     ]
    }
   ],
   "source": [
    "score = score_model(model_identifier='resnet50', model=commited_model,\n",
    "                    benchmark_identifier='dicarlo.MajajHong2015public.V4-pls')\n",
    "\n",
    "print(score)"
   ]
  },
  {
   "cell_type": "code",
   "execution_count": 6,
   "id": "31138746",
   "metadata": {},
   "outputs": [
    {
     "name": "stderr",
     "output_type": "stream",
     "text": [
      "layers:   0%|          | 0/2 [00:00<?, ?it/s]\n",
      "cross-validation:   0%|          | 0/10 [00:00<?, ?it/s]\u001b[A\n",
      "cross-validation:  10%|█         | 1/10 [00:49<07:26, 49.61s/it]\u001b[A\n",
      "cross-validation:  20%|██        | 2/10 [01:19<05:05, 38.23s/it]\u001b[A\n",
      "cross-validation:  30%|███       | 3/10 [01:56<04:23, 37.71s/it]\u001b[A\n",
      "cross-validation:  40%|████      | 4/10 [02:28<03:32, 35.47s/it]\u001b[A\n",
      "cross-validation:  50%|█████     | 5/10 [02:54<02:39, 31.84s/it]\u001b[A\n",
      "cross-validation:  60%|██████    | 6/10 [03:19<01:58, 29.72s/it]\u001b[A\n",
      "cross-validation:  70%|███████   | 7/10 [03:50<01:30, 30.08s/it]\u001b[A\n",
      "cross-validation:  80%|████████  | 8/10 [04:20<00:59, 29.96s/it]\u001b[A\n",
      "cross-validation:  90%|█████████ | 9/10 [04:53<00:30, 30.79s/it]\u001b[A\n",
      "cross-validation: 100%|██████████| 10/10 [05:21<00:00, 32.15s/it]\u001b[A\n",
      "layers:  50%|█████     | 1/2 [05:31<05:31, 331.40s/it]\n",
      "cross-validation:   0%|          | 0/10 [00:00<?, ?it/s]\u001b[A\n",
      "cross-validation:  10%|█         | 1/10 [00:36<05:25, 36.13s/it]\u001b[A\n",
      "cross-validation:  20%|██        | 2/10 [01:10<04:40, 35.01s/it]\u001b[A\n",
      "cross-validation:  30%|███       | 3/10 [01:43<03:59, 34.15s/it]\u001b[A\n",
      "cross-validation:  40%|████      | 4/10 [02:12<03:13, 32.21s/it]\u001b[A\n",
      "cross-validation:  50%|█████     | 5/10 [02:45<02:42, 32.47s/it]\u001b[A\n",
      "cross-validation:  60%|██████    | 6/10 [03:37<02:36, 39.07s/it]\u001b[A\n",
      "cross-validation:  70%|███████   | 7/10 [04:08<01:49, 36.56s/it]\u001b[A\n",
      "cross-validation:  80%|████████  | 8/10 [04:42<01:11, 35.63s/it]\u001b[A\n",
      "cross-validation:  90%|█████████ | 9/10 [05:19<00:36, 36.11s/it]\u001b[A\n",
      "cross-validation: 100%|██████████| 10/10 [06:01<00:00, 36.12s/it]\u001b[A\n",
      "layers: 100%|██████████| 2/2 [11:33<00:00, 346.52s/it]\n",
      "activations: 100%|██████████| 3200/3200 [02:18<00:00, 23.13it/s]\n",
      "layer packaging: 100%|██████████| 1/1 [00:00<00:00,  9.47it/s]\n",
      "cross-validation: 100%|██████████| 10/10 [15:13<00:00, 91.33s/it]"
     ]
    },
    {
     "name": "stdout",
     "output_type": "stream",
     "text": [
      "<xarray.Score (aggregation: 2)>\n",
      "array([0.47789128, 0.00375194])\n",
      "Coordinates:\n",
      "  * aggregation  (aggregation) <U6 'center' 'error'\n",
      "Attributes:\n",
      "    raw:                   <xarray.Score (aggregation: 2)>\\narray([0.56395951...\n",
      "    ceiling:               <xarray.Score (aggregation: 2)>\\narray([0.81579938...\n",
      "    model_identifier:      resnet50\n",
      "    benchmark_identifier:  dicarlo.MajajHong2015public.IT-pls\n"
     ]
    },
    {
     "name": "stderr",
     "output_type": "stream",
     "text": [
      "\n"
     ]
    }
   ],
   "source": [
    "score = score_model(model_identifier='resnet50', model=commited_model,\n",
    "                    benchmark_identifier='dicarlo.MajajHong2015public.IT-pls')\n",
    "\n",
    "print(score)"
   ]
  },
  {
   "cell_type": "code",
   "execution_count": null,
   "id": "b284399f",
   "metadata": {},
   "outputs": [],
   "source": []
  }
 ],
 "metadata": {
  "kernelspec": {
   "display_name": "Python 3",
   "language": "python",
   "name": "python3"
  },
  "language_info": {
   "codemirror_mode": {
    "name": "ipython",
    "version": 3
   },
   "file_extension": ".py",
   "mimetype": "text/x-python",
   "name": "python",
   "nbconvert_exporter": "python",
   "pygments_lexer": "ipython3",
   "version": "3.8.0"
  }
 },
 "nbformat": 4,
 "nbformat_minor": 5
}
